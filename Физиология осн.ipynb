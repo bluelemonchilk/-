{
 "cells": [
  {
   "cell_type": "code",
   "execution_count": 2,
   "id": "0bed10eb",
   "metadata": {},
   "outputs": [
    {
     "name": "stderr",
     "output_type": "stream",
     "text": [
      "Чтение файлов: 100%|██████████| 20/20 [00:17<00:00,  1.12it/s]\n",
      "Обработка испытуемых:   0%|          | 0/20 [00:00<?, ?it/s]c:\\Users\\khari\\AppData\\Local\\Programs\\Python\\Python313\\Lib\\site-packages\\neurokit2\\hrv\\hrv_nonlinear.py:536: NeuroKitWarning: DFA_alpha2 related indices will not be calculated. The maximum duration of the windows provided for the long-term correlation is smaller than the minimum duration of windows. Refer to the `scale` argument in `nk.fractal_dfa()` for more information.\n",
      "  warn(\n",
      "c:\\Users\\khari\\AppData\\Local\\Programs\\Python\\Python313\\Lib\\site-packages\\neurokit2\\hrv\\hrv_nonlinear.py:536: NeuroKitWarning: DFA_alpha2 related indices will not be calculated. The maximum duration of the windows provided for the long-term correlation is smaller than the minimum duration of windows. Refer to the `scale` argument in `nk.fractal_dfa()` for more information.\n",
      "  warn(\n"
     ]
    },
    {
     "name": "stdout",
     "output_type": "stream",
     "text": [
      "nan nan nan nan\n"
     ]
    },
    {
     "name": "stderr",
     "output_type": "stream",
     "text": [
      "c:\\Users\\khari\\AppData\\Local\\Programs\\Python\\Python313\\Lib\\site-packages\\neurokit2\\hrv\\hrv_nonlinear.py:536: NeuroKitWarning: DFA_alpha2 related indices will not be calculated. The maximum duration of the windows provided for the long-term correlation is smaller than the minimum duration of windows. Refer to the `scale` argument in `nk.fractal_dfa()` for more information.\n",
      "  warn(\n",
      "c:\\Users\\khari\\AppData\\Local\\Programs\\Python\\Python313\\Lib\\site-packages\\neurokit2\\hrv\\hrv_nonlinear.py:536: NeuroKitWarning: DFA_alpha2 related indices will not be calculated. The maximum duration of the windows provided for the long-term correlation is smaller than the minimum duration of windows. Refer to the `scale` argument in `nk.fractal_dfa()` for more information.\n",
      "  warn(\n"
     ]
    },
    {
     "name": "stdout",
     "output_type": "stream",
     "text": [
      "nan nan nan nan\n"
     ]
    },
    {
     "name": "stderr",
     "output_type": "stream",
     "text": [
      "c:\\Users\\khari\\AppData\\Local\\Programs\\Python\\Python313\\Lib\\site-packages\\neurokit2\\hrv\\hrv_nonlinear.py:536: NeuroKitWarning: DFA_alpha2 related indices will not be calculated. The maximum duration of the windows provided for the long-term correlation is smaller than the minimum duration of windows. Refer to the `scale` argument in `nk.fractal_dfa()` for more information.\n",
      "  warn(\n",
      "c:\\Users\\khari\\AppData\\Local\\Programs\\Python\\Python313\\Lib\\site-packages\\neurokit2\\hrv\\hrv_nonlinear.py:536: NeuroKitWarning: DFA_alpha2 related indices will not be calculated. The maximum duration of the windows provided for the long-term correlation is smaller than the minimum duration of windows. Refer to the `scale` argument in `nk.fractal_dfa()` for more information.\n",
      "  warn(\n"
     ]
    },
    {
     "name": "stdout",
     "output_type": "stream",
     "text": [
      "nan nan nan nan\n"
     ]
    },
    {
     "name": "stderr",
     "output_type": "stream",
     "text": [
      "c:\\Users\\khari\\AppData\\Local\\Programs\\Python\\Python313\\Lib\\site-packages\\neurokit2\\hrv\\hrv_nonlinear.py:536: NeuroKitWarning: DFA_alpha2 related indices will not be calculated. The maximum duration of the windows provided for the long-term correlation is smaller than the minimum duration of windows. Refer to the `scale` argument in `nk.fractal_dfa()` for more information.\n",
      "  warn(\n",
      "c:\\Users\\khari\\AppData\\Local\\Programs\\Python\\Python313\\Lib\\site-packages\\neurokit2\\hrv\\hrv_nonlinear.py:536: NeuroKitWarning: DFA_alpha2 related indices will not be calculated. The maximum duration of the windows provided for the long-term correlation is smaller than the minimum duration of windows. Refer to the `scale` argument in `nk.fractal_dfa()` for more information.\n",
      "  warn(\n"
     ]
    },
    {
     "name": "stdout",
     "output_type": "stream",
     "text": [
      "nan nan nan nan\n"
     ]
    },
    {
     "name": "stderr",
     "output_type": "stream",
     "text": [
      "c:\\Users\\khari\\AppData\\Local\\Programs\\Python\\Python313\\Lib\\site-packages\\neurokit2\\hrv\\hrv_nonlinear.py:536: NeuroKitWarning: DFA_alpha2 related indices will not be calculated. The maximum duration of the windows provided for the long-term correlation is smaller than the minimum duration of windows. Refer to the `scale` argument in `nk.fractal_dfa()` for more information.\n",
      "  warn(\n",
      "c:\\Users\\khari\\AppData\\Local\\Programs\\Python\\Python313\\Lib\\site-packages\\neurokit2\\hrv\\hrv_nonlinear.py:536: NeuroKitWarning: DFA_alpha2 related indices will not be calculated. The maximum duration of the windows provided for the long-term correlation is smaller than the minimum duration of windows. Refer to the `scale` argument in `nk.fractal_dfa()` for more information.\n",
      "  warn(\n"
     ]
    },
    {
     "name": "stdout",
     "output_type": "stream",
     "text": [
      "nan nan nan nan\n"
     ]
    },
    {
     "name": "stderr",
     "output_type": "stream",
     "text": [
      "c:\\Users\\khari\\AppData\\Local\\Programs\\Python\\Python313\\Lib\\site-packages\\neurokit2\\hrv\\hrv_nonlinear.py:536: NeuroKitWarning: DFA_alpha2 related indices will not be calculated. The maximum duration of the windows provided for the long-term correlation is smaller than the minimum duration of windows. Refer to the `scale` argument in `nk.fractal_dfa()` for more information.\n",
      "  warn(\n",
      "c:\\Users\\khari\\AppData\\Local\\Programs\\Python\\Python313\\Lib\\site-packages\\neurokit2\\hrv\\hrv_nonlinear.py:536: NeuroKitWarning: DFA_alpha2 related indices will not be calculated. The maximum duration of the windows provided for the long-term correlation is smaller than the minimum duration of windows. Refer to the `scale` argument in `nk.fractal_dfa()` for more information.\n",
      "  warn(\n",
      "c:\\Users\\khari\\AppData\\Local\\Programs\\Python\\Python313\\Lib\\site-packages\\neurokit2\\complexity\\entropy_multiscale.py:349: RuntimeWarning: invalid value encountered in scalar divide\n",
      "  mse = np.trapz(mse) / len(mse)\n",
      "c:\\Users\\khari\\AppData\\Local\\Programs\\Python\\Python313\\Lib\\site-packages\\neurokit2\\complexity\\optim_complexity_k.py:134: RuntimeWarning: divide by zero encountered in divide\n",
      "  normalization = (n - 1) / (np.floor((n - k_subrange) / k).astype(int) * k)\n",
      "c:\\Users\\khari\\AppData\\Local\\Programs\\Python\\Python313\\Lib\\site-packages\\neurokit2\\complexity\\optim_complexity_k.py:135: RuntimeWarning: invalid value encountered in multiply\n",
      "  sets = (np.nansum(np.abs(np.diff(sig_values)), axis=1) * normalization) / k\n"
     ]
    },
    {
     "name": "stdout",
     "output_type": "stream",
     "text": [
      "nan nan nan nan\n"
     ]
    },
    {
     "name": "stderr",
     "output_type": "stream",
     "text": [
      "c:\\Users\\khari\\AppData\\Local\\Programs\\Python\\Python313\\Lib\\site-packages\\neurokit2\\complexity\\entropy_multiscale.py:349: RuntimeWarning: invalid value encountered in scalar divide\n",
      "  mse = np.trapz(mse) / len(mse)\n",
      "c:\\Users\\khari\\AppData\\Local\\Programs\\Python\\Python313\\Lib\\site-packages\\neurokit2\\complexity\\optim_complexity_k.py:134: RuntimeWarning: divide by zero encountered in divide\n",
      "  normalization = (n - 1) / (np.floor((n - k_subrange) / k).astype(int) * k)\n",
      "c:\\Users\\khari\\AppData\\Local\\Programs\\Python\\Python313\\Lib\\site-packages\\neurokit2\\complexity\\optim_complexity_k.py:135: RuntimeWarning: invalid value encountered in multiply\n",
      "  sets = (np.nansum(np.abs(np.diff(sig_values)), axis=1) * normalization) / k\n"
     ]
    },
    {
     "name": "stdout",
     "output_type": "stream",
     "text": [
      "nan nan nan nan\n"
     ]
    },
    {
     "name": "stderr",
     "output_type": "stream",
     "text": [
      "c:\\Users\\khari\\AppData\\Local\\Programs\\Python\\Python313\\Lib\\site-packages\\neurokit2\\hrv\\hrv_nonlinear.py:536: NeuroKitWarning: DFA_alpha2 related indices will not be calculated. The maximum duration of the windows provided for the long-term correlation is smaller than the minimum duration of windows. Refer to the `scale` argument in `nk.fractal_dfa()` for more information.\n",
      "  warn(\n",
      "c:\\Users\\khari\\AppData\\Local\\Programs\\Python\\Python313\\Lib\\site-packages\\neurokit2\\hrv\\hrv_nonlinear.py:536: NeuroKitWarning: DFA_alpha2 related indices will not be calculated. The maximum duration of the windows provided for the long-term correlation is smaller than the minimum duration of windows. Refer to the `scale` argument in `nk.fractal_dfa()` for more information.\n",
      "  warn(\n"
     ]
    },
    {
     "name": "stdout",
     "output_type": "stream",
     "text": [
      "nan nan nan nan\n"
     ]
    },
    {
     "name": "stderr",
     "output_type": "stream",
     "text": [
      "c:\\Users\\khari\\AppData\\Local\\Programs\\Python\\Python313\\Lib\\site-packages\\neurokit2\\hrv\\hrv_nonlinear.py:536: NeuroKitWarning: DFA_alpha2 related indices will not be calculated. The maximum duration of the windows provided for the long-term correlation is smaller than the minimum duration of windows. Refer to the `scale` argument in `nk.fractal_dfa()` for more information.\n",
      "  warn(\n",
      "c:\\Users\\khari\\AppData\\Local\\Programs\\Python\\Python313\\Lib\\site-packages\\neurokit2\\complexity\\entropy_multiscale.py:349: RuntimeWarning: invalid value encountered in scalar divide\n",
      "  mse = np.trapz(mse) / len(mse)\n",
      "c:\\Users\\khari\\AppData\\Local\\Programs\\Python\\Python313\\Lib\\site-packages\\neurokit2\\complexity\\entropy_multiscale.py:349: RuntimeWarning: invalid value encountered in scalar divide\n",
      "  mse = np.trapz(mse) / len(mse)\n",
      "c:\\Users\\khari\\AppData\\Local\\Programs\\Python\\Python313\\Lib\\site-packages\\neurokit2\\hrv\\hrv_nonlinear.py:536: NeuroKitWarning: DFA_alpha2 related indices will not be calculated. The maximum duration of the windows provided for the long-term correlation is smaller than the minimum duration of windows. Refer to the `scale` argument in `nk.fractal_dfa()` for more information.\n",
      "  warn(\n",
      "c:\\Users\\khari\\AppData\\Local\\Programs\\Python\\Python313\\Lib\\site-packages\\neurokit2\\complexity\\entropy_multiscale.py:349: RuntimeWarning: invalid value encountered in scalar divide\n",
      "  mse = np.trapz(mse) / len(mse)\n",
      "c:\\Users\\khari\\AppData\\Local\\Programs\\Python\\Python313\\Lib\\site-packages\\neurokit2\\complexity\\entropy_multiscale.py:349: RuntimeWarning: invalid value encountered in scalar divide\n",
      "  mse = np.trapz(mse) / len(mse)\n",
      "c:\\Users\\khari\\AppData\\Local\\Programs\\Python\\Python313\\Lib\\site-packages\\neurokit2\\complexity\\entropy_multiscale.py:349: RuntimeWarning: invalid value encountered in scalar divide\n",
      "  mse = np.trapz(mse) / len(mse)\n"
     ]
    },
    {
     "name": "stdout",
     "output_type": "stream",
     "text": [
      "nan nan nan nan\n"
     ]
    },
    {
     "name": "stderr",
     "output_type": "stream",
     "text": [
      "c:\\Users\\khari\\AppData\\Local\\Programs\\Python\\Python313\\Lib\\site-packages\\neurokit2\\hrv\\hrv_nonlinear.py:536: NeuroKitWarning: DFA_alpha2 related indices will not be calculated. The maximum duration of the windows provided for the long-term correlation is smaller than the minimum duration of windows. Refer to the `scale` argument in `nk.fractal_dfa()` for more information.\n",
      "  warn(\n",
      "c:\\Users\\khari\\AppData\\Local\\Programs\\Python\\Python313\\Lib\\site-packages\\neurokit2\\hrv\\hrv_nonlinear.py:536: NeuroKitWarning: DFA_alpha2 related indices will not be calculated. The maximum duration of the windows provided for the long-term correlation is smaller than the minimum duration of windows. Refer to the `scale` argument in `nk.fractal_dfa()` for more information.\n",
      "  warn(\n"
     ]
    },
    {
     "name": "stdout",
     "output_type": "stream",
     "text": [
      "nan nan nan nan\n"
     ]
    },
    {
     "name": "stderr",
     "output_type": "stream",
     "text": [
      "c:\\Users\\khari\\AppData\\Local\\Programs\\Python\\Python313\\Lib\\site-packages\\neurokit2\\hrv\\hrv_nonlinear.py:536: NeuroKitWarning: DFA_alpha2 related indices will not be calculated. The maximum duration of the windows provided for the long-term correlation is smaller than the minimum duration of windows. Refer to the `scale` argument in `nk.fractal_dfa()` for more information.\n",
      "  warn(\n",
      "c:\\Users\\khari\\AppData\\Local\\Programs\\Python\\Python313\\Lib\\site-packages\\neurokit2\\complexity\\entropy_multiscale.py:349: RuntimeWarning: invalid value encountered in scalar divide\n",
      "  mse = np.trapz(mse) / len(mse)\n",
      "c:\\Users\\khari\\AppData\\Local\\Programs\\Python\\Python313\\Lib\\site-packages\\neurokit2\\complexity\\entropy_multiscale.py:349: RuntimeWarning: invalid value encountered in scalar divide\n",
      "  mse = np.trapz(mse) / len(mse)\n",
      "c:\\Users\\khari\\AppData\\Local\\Programs\\Python\\Python313\\Lib\\site-packages\\neurokit2\\complexity\\entropy_multiscale.py:349: RuntimeWarning: invalid value encountered in scalar divide\n",
      "  mse = np.trapz(mse) / len(mse)\n",
      "c:\\Users\\khari\\AppData\\Local\\Programs\\Python\\Python313\\Lib\\site-packages\\neurokit2\\hrv\\hrv_nonlinear.py:536: NeuroKitWarning: DFA_alpha2 related indices will not be calculated. The maximum duration of the windows provided for the long-term correlation is smaller than the minimum duration of windows. Refer to the `scale` argument in `nk.fractal_dfa()` for more information.\n",
      "  warn(\n",
      "c:\\Users\\khari\\AppData\\Local\\Programs\\Python\\Python313\\Lib\\site-packages\\neurokit2\\complexity\\entropy_multiscale.py:349: RuntimeWarning: invalid value encountered in scalar divide\n",
      "  mse = np.trapz(mse) / len(mse)\n",
      "c:\\Users\\khari\\AppData\\Local\\Programs\\Python\\Python313\\Lib\\site-packages\\neurokit2\\complexity\\entropy_multiscale.py:349: RuntimeWarning: invalid value encountered in scalar divide\n",
      "  mse = np.trapz(mse) / len(mse)\n",
      "c:\\Users\\khari\\AppData\\Local\\Programs\\Python\\Python313\\Lib\\site-packages\\neurokit2\\complexity\\entropy_multiscale.py:349: RuntimeWarning: invalid value encountered in scalar divide\n",
      "  mse = np.trapz(mse) / len(mse)\n"
     ]
    },
    {
     "name": "stdout",
     "output_type": "stream",
     "text": [
      "nan nan nan nan\n"
     ]
    },
    {
     "name": "stderr",
     "output_type": "stream",
     "text": [
      "c:\\Users\\khari\\AppData\\Local\\Programs\\Python\\Python313\\Lib\\site-packages\\neurokit2\\hrv\\hrv_nonlinear.py:536: NeuroKitWarning: DFA_alpha2 related indices will not be calculated. The maximum duration of the windows provided for the long-term correlation is smaller than the minimum duration of windows. Refer to the `scale` argument in `nk.fractal_dfa()` for more information.\n",
      "  warn(\n",
      "c:\\Users\\khari\\AppData\\Local\\Programs\\Python\\Python313\\Lib\\site-packages\\neurokit2\\hrv\\hrv_nonlinear.py:536: NeuroKitWarning: DFA_alpha2 related indices will not be calculated. The maximum duration of the windows provided for the long-term correlation is smaller than the minimum duration of windows. Refer to the `scale` argument in `nk.fractal_dfa()` for more information.\n",
      "  warn(\n"
     ]
    },
    {
     "name": "stdout",
     "output_type": "stream",
     "text": [
      "nan nan nan nan\n"
     ]
    },
    {
     "name": "stderr",
     "output_type": "stream",
     "text": [
      "c:\\Users\\khari\\AppData\\Local\\Programs\\Python\\Python313\\Lib\\site-packages\\neurokit2\\hrv\\hrv_nonlinear.py:536: NeuroKitWarning: DFA_alpha2 related indices will not be calculated. The maximum duration of the windows provided for the long-term correlation is smaller than the minimum duration of windows. Refer to the `scale` argument in `nk.fractal_dfa()` for more information.\n",
      "  warn(\n",
      "c:\\Users\\khari\\AppData\\Local\\Programs\\Python\\Python313\\Lib\\site-packages\\neurokit2\\complexity\\entropy_multiscale.py:349: RuntimeWarning: invalid value encountered in scalar divide\n",
      "  mse = np.trapz(mse) / len(mse)\n",
      "c:\\Users\\khari\\AppData\\Local\\Programs\\Python\\Python313\\Lib\\site-packages\\neurokit2\\complexity\\optim_complexity_k.py:134: RuntimeWarning: divide by zero encountered in divide\n",
      "  normalization = (n - 1) / (np.floor((n - k_subrange) / k).astype(int) * k)\n",
      "c:\\Users\\khari\\AppData\\Local\\Programs\\Python\\Python313\\Lib\\site-packages\\neurokit2\\complexity\\optim_complexity_k.py:135: RuntimeWarning: invalid value encountered in multiply\n",
      "  sets = (np.nansum(np.abs(np.diff(sig_values)), axis=1) * normalization) / k\n",
      "c:\\Users\\khari\\AppData\\Local\\Programs\\Python\\Python313\\Lib\\site-packages\\neurokit2\\hrv\\hrv_nonlinear.py:536: NeuroKitWarning: DFA_alpha2 related indices will not be calculated. The maximum duration of the windows provided for the long-term correlation is smaller than the minimum duration of windows. Refer to the `scale` argument in `nk.fractal_dfa()` for more information.\n",
      "  warn(\n",
      "c:\\Users\\khari\\AppData\\Local\\Programs\\Python\\Python313\\Lib\\site-packages\\neurokit2\\complexity\\entropy_multiscale.py:349: RuntimeWarning: invalid value encountered in scalar divide\n",
      "  mse = np.trapz(mse) / len(mse)\n",
      "c:\\Users\\khari\\AppData\\Local\\Programs\\Python\\Python313\\Lib\\site-packages\\neurokit2\\complexity\\optim_complexity_k.py:134: RuntimeWarning: divide by zero encountered in divide\n",
      "  normalization = (n - 1) / (np.floor((n - k_subrange) / k).astype(int) * k)\n",
      "c:\\Users\\khari\\AppData\\Local\\Programs\\Python\\Python313\\Lib\\site-packages\\neurokit2\\complexity\\optim_complexity_k.py:135: RuntimeWarning: invalid value encountered in multiply\n",
      "  sets = (np.nansum(np.abs(np.diff(sig_values)), axis=1) * normalization) / k\n"
     ]
    },
    {
     "name": "stdout",
     "output_type": "stream",
     "text": [
      "nan nan nan nan\n"
     ]
    },
    {
     "name": "stderr",
     "output_type": "stream",
     "text": [
      "c:\\Users\\khari\\AppData\\Local\\Programs\\Python\\Python313\\Lib\\site-packages\\neurokit2\\hrv\\hrv_nonlinear.py:536: NeuroKitWarning: DFA_alpha2 related indices will not be calculated. The maximum duration of the windows provided for the long-term correlation is smaller than the minimum duration of windows. Refer to the `scale` argument in `nk.fractal_dfa()` for more information.\n",
      "  warn(\n",
      "c:\\Users\\khari\\AppData\\Local\\Programs\\Python\\Python313\\Lib\\site-packages\\neurokit2\\hrv\\hrv_nonlinear.py:536: NeuroKitWarning: DFA_alpha2 related indices will not be calculated. The maximum duration of the windows provided for the long-term correlation is smaller than the minimum duration of windows. Refer to the `scale` argument in `nk.fractal_dfa()` for more information.\n",
      "  warn(\n",
      "c:\\Users\\khari\\AppData\\Local\\Programs\\Python\\Python313\\Lib\\site-packages\\neurokit2\\hrv\\hrv_nonlinear.py:536: NeuroKitWarning: DFA_alpha2 related indices will not be calculated. The maximum duration of the windows provided for the long-term correlation is smaller than the minimum duration of windows. Refer to the `scale` argument in `nk.fractal_dfa()` for more information.\n",
      "  warn(\n",
      "c:\\Users\\khari\\AppData\\Local\\Programs\\Python\\Python313\\Lib\\site-packages\\neurokit2\\complexity\\entropy_multiscale.py:349: RuntimeWarning: invalid value encountered in scalar divide\n",
      "  mse = np.trapz(mse) / len(mse)\n",
      "c:\\Users\\khari\\AppData\\Local\\Programs\\Python\\Python313\\Lib\\site-packages\\neurokit2\\complexity\\optim_complexity_k.py:134: RuntimeWarning: divide by zero encountered in divide\n",
      "  normalization = (n - 1) / (np.floor((n - k_subrange) / k).astype(int) * k)\n",
      "c:\\Users\\khari\\AppData\\Local\\Programs\\Python\\Python313\\Lib\\site-packages\\neurokit2\\complexity\\optim_complexity_k.py:135: RuntimeWarning: invalid value encountered in multiply\n",
      "  sets = (np.nansum(np.abs(np.diff(sig_values)), axis=1) * normalization) / k\n"
     ]
    },
    {
     "name": "stdout",
     "output_type": "stream",
     "text": [
      "nan nan nan nan\n"
     ]
    },
    {
     "name": "stderr",
     "output_type": "stream",
     "text": [
      "c:\\Users\\khari\\AppData\\Local\\Programs\\Python\\Python313\\Lib\\site-packages\\neurokit2\\hrv\\hrv_nonlinear.py:536: NeuroKitWarning: DFA_alpha2 related indices will not be calculated. The maximum duration of the windows provided for the long-term correlation is smaller than the minimum duration of windows. Refer to the `scale` argument in `nk.fractal_dfa()` for more information.\n",
      "  warn(\n",
      "c:\\Users\\khari\\AppData\\Local\\Programs\\Python\\Python313\\Lib\\site-packages\\neurokit2\\complexity\\entropy_multiscale.py:349: RuntimeWarning: invalid value encountered in scalar divide\n",
      "  mse = np.trapz(mse) / len(mse)\n",
      "c:\\Users\\khari\\AppData\\Local\\Programs\\Python\\Python313\\Lib\\site-packages\\neurokit2\\complexity\\optim_complexity_k.py:134: RuntimeWarning: divide by zero encountered in divide\n",
      "  normalization = (n - 1) / (np.floor((n - k_subrange) / k).astype(int) * k)\n",
      "c:\\Users\\khari\\AppData\\Local\\Programs\\Python\\Python313\\Lib\\site-packages\\neurokit2\\complexity\\optim_complexity_k.py:135: RuntimeWarning: invalid value encountered in multiply\n",
      "  sets = (np.nansum(np.abs(np.diff(sig_values)), axis=1) * normalization) / k\n"
     ]
    },
    {
     "name": "stdout",
     "output_type": "stream",
     "text": [
      "nan nan nan nan\n"
     ]
    },
    {
     "name": "stderr",
     "output_type": "stream",
     "text": [
      "c:\\Users\\khari\\AppData\\Local\\Programs\\Python\\Python313\\Lib\\site-packages\\neurokit2\\hrv\\hrv_nonlinear.py:536: NeuroKitWarning: DFA_alpha2 related indices will not be calculated. The maximum duration of the windows provided for the long-term correlation is smaller than the minimum duration of windows. Refer to the `scale` argument in `nk.fractal_dfa()` for more information.\n",
      "  warn(\n",
      "c:\\Users\\khari\\AppData\\Local\\Programs\\Python\\Python313\\Lib\\site-packages\\neurokit2\\hrv\\hrv_nonlinear.py:536: NeuroKitWarning: DFA_alpha2 related indices will not be calculated. The maximum duration of the windows provided for the long-term correlation is smaller than the minimum duration of windows. Refer to the `scale` argument in `nk.fractal_dfa()` for more information.\n",
      "  warn(\n",
      "c:\\Users\\khari\\AppData\\Local\\Programs\\Python\\Python313\\Lib\\site-packages\\neurokit2\\hrv\\hrv_nonlinear.py:536: NeuroKitWarning: DFA_alpha2 related indices will not be calculated. The maximum duration of the windows provided for the long-term correlation is smaller than the minimum duration of windows. Refer to the `scale` argument in `nk.fractal_dfa()` for more information.\n",
      "  warn(\n"
     ]
    },
    {
     "name": "stdout",
     "output_type": "stream",
     "text": [
      "nan nan nan nan\n"
     ]
    },
    {
     "name": "stderr",
     "output_type": "stream",
     "text": [
      "c:\\Users\\khari\\AppData\\Local\\Programs\\Python\\Python313\\Lib\\site-packages\\neurokit2\\complexity\\entropy_multiscale.py:349: RuntimeWarning: invalid value encountered in scalar divide\n",
      "  mse = np.trapz(mse) / len(mse)\n",
      "c:\\Users\\khari\\AppData\\Local\\Programs\\Python\\Python313\\Lib\\site-packages\\neurokit2\\hrv\\hrv_nonlinear.py:536: NeuroKitWarning: DFA_alpha2 related indices will not be calculated. The maximum duration of the windows provided for the long-term correlation is smaller than the minimum duration of windows. Refer to the `scale` argument in `nk.fractal_dfa()` for more information.\n",
      "  warn(\n",
      "c:\\Users\\khari\\AppData\\Local\\Programs\\Python\\Python313\\Lib\\site-packages\\neurokit2\\complexity\\entropy_multiscale.py:349: RuntimeWarning: invalid value encountered in scalar divide\n",
      "  mse = np.trapz(mse) / len(mse)\n"
     ]
    },
    {
     "name": "stdout",
     "output_type": "stream",
     "text": [
      "nan nan nan nan\n"
     ]
    },
    {
     "name": "stderr",
     "output_type": "stream",
     "text": [
      "c:\\Users\\khari\\AppData\\Local\\Programs\\Python\\Python313\\Lib\\site-packages\\neurokit2\\hrv\\hrv_nonlinear.py:536: NeuroKitWarning: DFA_alpha2 related indices will not be calculated. The maximum duration of the windows provided for the long-term correlation is smaller than the minimum duration of windows. Refer to the `scale` argument in `nk.fractal_dfa()` for more information.\n",
      "  warn(\n",
      "c:\\Users\\khari\\AppData\\Local\\Programs\\Python\\Python313\\Lib\\site-packages\\neurokit2\\hrv\\hrv_nonlinear.py:536: NeuroKitWarning: DFA_alpha2 related indices will not be calculated. The maximum duration of the windows provided for the long-term correlation is smaller than the minimum duration of windows. Refer to the `scale` argument in `nk.fractal_dfa()` for more information.\n",
      "  warn(\n"
     ]
    },
    {
     "name": "stdout",
     "output_type": "stream",
     "text": [
      "nan nan nan nan\n"
     ]
    },
    {
     "name": "stderr",
     "output_type": "stream",
     "text": [
      "c:\\Users\\khari\\AppData\\Local\\Programs\\Python\\Python313\\Lib\\site-packages\\neurokit2\\hrv\\hrv_nonlinear.py:536: NeuroKitWarning: DFA_alpha2 related indices will not be calculated. The maximum duration of the windows provided for the long-term correlation is smaller than the minimum duration of windows. Refer to the `scale` argument in `nk.fractal_dfa()` for more information.\n",
      "  warn(\n",
      "c:\\Users\\khari\\AppData\\Local\\Programs\\Python\\Python313\\Lib\\site-packages\\neurokit2\\hrv\\hrv_nonlinear.py:536: NeuroKitWarning: DFA_alpha2 related indices will not be calculated. The maximum duration of the windows provided for the long-term correlation is smaller than the minimum duration of windows. Refer to the `scale` argument in `nk.fractal_dfa()` for more information.\n",
      "  warn(\n"
     ]
    },
    {
     "name": "stdout",
     "output_type": "stream",
     "text": [
      "nan nan nan nan\n"
     ]
    },
    {
     "name": "stderr",
     "output_type": "stream",
     "text": [
      "c:\\Users\\khari\\AppData\\Local\\Programs\\Python\\Python313\\Lib\\site-packages\\neurokit2\\hrv\\hrv_nonlinear.py:536: NeuroKitWarning: DFA_alpha2 related indices will not be calculated. The maximum duration of the windows provided for the long-term correlation is smaller than the minimum duration of windows. Refer to the `scale` argument in `nk.fractal_dfa()` for more information.\n",
      "  warn(\n",
      "c:\\Users\\khari\\AppData\\Local\\Programs\\Python\\Python313\\Lib\\site-packages\\neurokit2\\hrv\\hrv_nonlinear.py:536: NeuroKitWarning: DFA_alpha2 related indices will not be calculated. The maximum duration of the windows provided for the long-term correlation is smaller than the minimum duration of windows. Refer to the `scale` argument in `nk.fractal_dfa()` for more information.\n",
      "  warn(\n",
      "Обработка испытуемых:   5%|▌         | 1/20 [00:26<08:23, 26.48s/it]"
     ]
    },
    {
     "name": "stdout",
     "output_type": "stream",
     "text": [
      "nan nan nan nan\n"
     ]
    },
    {
     "name": "stderr",
     "output_type": "stream",
     "text": [
      "c:\\Users\\khari\\AppData\\Local\\Programs\\Python\\Python313\\Lib\\site-packages\\neurokit2\\hrv\\hrv_nonlinear.py:536: NeuroKitWarning: DFA_alpha2 related indices will not be calculated. The maximum duration of the windows provided for the long-term correlation is smaller than the minimum duration of windows. Refer to the `scale` argument in `nk.fractal_dfa()` for more information.\n",
      "  warn(\n",
      "c:\\Users\\khari\\AppData\\Local\\Programs\\Python\\Python313\\Lib\\site-packages\\neurokit2\\complexity\\entropy_multiscale.py:349: RuntimeWarning: invalid value encountered in scalar divide\n",
      "  mse = np.trapz(mse) / len(mse)\n",
      "c:\\Users\\khari\\AppData\\Local\\Programs\\Python\\Python313\\Lib\\site-packages\\neurokit2\\complexity\\entropy_multiscale.py:349: RuntimeWarning: invalid value encountered in scalar divide\n",
      "  mse = np.trapz(mse) / len(mse)\n",
      "c:\\Users\\khari\\AppData\\Local\\Programs\\Python\\Python313\\Lib\\site-packages\\neurokit2\\complexity\\entropy_multiscale.py:349: RuntimeWarning: invalid value encountered in scalar divide\n",
      "  mse = np.trapz(mse) / len(mse)\n",
      "c:\\Users\\khari\\AppData\\Local\\Programs\\Python\\Python313\\Lib\\site-packages\\neurokit2\\hrv\\hrv_nonlinear.py:536: NeuroKitWarning: DFA_alpha2 related indices will not be calculated. The maximum duration of the windows provided for the long-term correlation is smaller than the minimum duration of windows. Refer to the `scale` argument in `nk.fractal_dfa()` for more information.\n",
      "  warn(\n"
     ]
    },
    {
     "name": "stdout",
     "output_type": "stream",
     "text": [
      "nan nan nan nan\n"
     ]
    },
    {
     "name": "stderr",
     "output_type": "stream",
     "text": [
      "c:\\Users\\khari\\AppData\\Local\\Programs\\Python\\Python313\\Lib\\site-packages\\neurokit2\\hrv\\hrv_nonlinear.py:536: NeuroKitWarning: DFA_alpha2 related indices will not be calculated. The maximum duration of the windows provided for the long-term correlation is smaller than the minimum duration of windows. Refer to the `scale` argument in `nk.fractal_dfa()` for more information.\n",
      "  warn(\n",
      "c:\\Users\\khari\\AppData\\Local\\Programs\\Python\\Python313\\Lib\\site-packages\\neurokit2\\hrv\\hrv_nonlinear.py:536: NeuroKitWarning: DFA_alpha2 related indices will not be calculated. The maximum duration of the windows provided for the long-term correlation is smaller than the minimum duration of windows. Refer to the `scale` argument in `nk.fractal_dfa()` for more information.\n",
      "  warn(\n"
     ]
    },
    {
     "name": "stdout",
     "output_type": "stream",
     "text": [
      "nan nan nan nan\n"
     ]
    },
    {
     "name": "stderr",
     "output_type": "stream",
     "text": [
      "c:\\Users\\khari\\AppData\\Local\\Programs\\Python\\Python313\\Lib\\site-packages\\neurokit2\\hrv\\hrv_nonlinear.py:536: NeuroKitWarning: DFA_alpha2 related indices will not be calculated. The maximum duration of the windows provided for the long-term correlation is smaller than the minimum duration of windows. Refer to the `scale` argument in `nk.fractal_dfa()` for more information.\n",
      "  warn(\n",
      "c:\\Users\\khari\\AppData\\Local\\Programs\\Python\\Python313\\Lib\\site-packages\\neurokit2\\hrv\\hrv_nonlinear.py:536: NeuroKitWarning: DFA_alpha2 related indices will not be calculated. The maximum duration of the windows provided for the long-term correlation is smaller than the minimum duration of windows. Refer to the `scale` argument in `nk.fractal_dfa()` for more information.\n",
      "  warn(\n"
     ]
    },
    {
     "name": "stdout",
     "output_type": "stream",
     "text": [
      "nan nan nan nan\n"
     ]
    },
    {
     "name": "stderr",
     "output_type": "stream",
     "text": [
      "c:\\Users\\khari\\AppData\\Local\\Programs\\Python\\Python313\\Lib\\site-packages\\neurokit2\\hrv\\hrv_nonlinear.py:536: NeuroKitWarning: DFA_alpha2 related indices will not be calculated. The maximum duration of the windows provided for the long-term correlation is smaller than the minimum duration of windows. Refer to the `scale` argument in `nk.fractal_dfa()` for more information.\n",
      "  warn(\n",
      "c:\\Users\\khari\\AppData\\Local\\Programs\\Python\\Python313\\Lib\\site-packages\\neurokit2\\hrv\\hrv_nonlinear.py:536: NeuroKitWarning: DFA_alpha2 related indices will not be calculated. The maximum duration of the windows provided for the long-term correlation is smaller than the minimum duration of windows. Refer to the `scale` argument in `nk.fractal_dfa()` for more information.\n",
      "  warn(\n"
     ]
    },
    {
     "name": "stdout",
     "output_type": "stream",
     "text": [
      "nan nan nan nan\n"
     ]
    },
    {
     "name": "stderr",
     "output_type": "stream",
     "text": [
      "c:\\Users\\khari\\AppData\\Local\\Programs\\Python\\Python313\\Lib\\site-packages\\neurokit2\\hrv\\hrv_nonlinear.py:536: NeuroKitWarning: DFA_alpha2 related indices will not be calculated. The maximum duration of the windows provided for the long-term correlation is smaller than the minimum duration of windows. Refer to the `scale` argument in `nk.fractal_dfa()` for more information.\n",
      "  warn(\n",
      "c:\\Users\\khari\\AppData\\Local\\Programs\\Python\\Python313\\Lib\\site-packages\\neurokit2\\complexity\\entropy_multiscale.py:349: RuntimeWarning: invalid value encountered in scalar divide\n",
      "  mse = np.trapz(mse) / len(mse)\n",
      "c:\\Users\\khari\\AppData\\Local\\Programs\\Python\\Python313\\Lib\\site-packages\\neurokit2\\complexity\\optim_complexity_k.py:134: RuntimeWarning: divide by zero encountered in divide\n",
      "  normalization = (n - 1) / (np.floor((n - k_subrange) / k).astype(int) * k)\n",
      "c:\\Users\\khari\\AppData\\Local\\Programs\\Python\\Python313\\Lib\\site-packages\\neurokit2\\complexity\\optim_complexity_k.py:135: RuntimeWarning: invalid value encountered in multiply\n",
      "  sets = (np.nansum(np.abs(np.diff(sig_values)), axis=1) * normalization) / k\n",
      "c:\\Users\\khari\\AppData\\Local\\Programs\\Python\\Python313\\Lib\\site-packages\\neurokit2\\hrv\\hrv_nonlinear.py:536: NeuroKitWarning: DFA_alpha2 related indices will not be calculated. The maximum duration of the windows provided for the long-term correlation is smaller than the minimum duration of windows. Refer to the `scale` argument in `nk.fractal_dfa()` for more information.\n",
      "  warn(\n",
      "c:\\Users\\khari\\AppData\\Local\\Programs\\Python\\Python313\\Lib\\site-packages\\neurokit2\\complexity\\entropy_multiscale.py:349: RuntimeWarning: invalid value encountered in scalar divide\n",
      "  mse = np.trapz(mse) / len(mse)\n",
      "c:\\Users\\khari\\AppData\\Local\\Programs\\Python\\Python313\\Lib\\site-packages\\neurokit2\\complexity\\optim_complexity_k.py:134: RuntimeWarning: divide by zero encountered in divide\n",
      "  normalization = (n - 1) / (np.floor((n - k_subrange) / k).astype(int) * k)\n",
      "c:\\Users\\khari\\AppData\\Local\\Programs\\Python\\Python313\\Lib\\site-packages\\neurokit2\\complexity\\optim_complexity_k.py:135: RuntimeWarning: invalid value encountered in multiply\n",
      "  sets = (np.nansum(np.abs(np.diff(sig_values)), axis=1) * normalization) / k\n"
     ]
    },
    {
     "name": "stdout",
     "output_type": "stream",
     "text": [
      "nan nan nan nan\n"
     ]
    },
    {
     "name": "stderr",
     "output_type": "stream",
     "text": [
      "c:\\Users\\khari\\AppData\\Local\\Programs\\Python\\Python313\\Lib\\site-packages\\neurokit2\\hrv\\hrv_nonlinear.py:536: NeuroKitWarning: DFA_alpha2 related indices will not be calculated. The maximum duration of the windows provided for the long-term correlation is smaller than the minimum duration of windows. Refer to the `scale` argument in `nk.fractal_dfa()` for more information.\n",
      "  warn(\n",
      "c:\\Users\\khari\\AppData\\Local\\Programs\\Python\\Python313\\Lib\\site-packages\\neurokit2\\hrv\\hrv_nonlinear.py:536: NeuroKitWarning: DFA_alpha2 related indices will not be calculated. The maximum duration of the windows provided for the long-term correlation is smaller than the minimum duration of windows. Refer to the `scale` argument in `nk.fractal_dfa()` for more information.\n",
      "  warn(\n"
     ]
    },
    {
     "name": "stdout",
     "output_type": "stream",
     "text": [
      "nan nan nan nan\n"
     ]
    },
    {
     "name": "stderr",
     "output_type": "stream",
     "text": [
      "c:\\Users\\khari\\AppData\\Local\\Programs\\Python\\Python313\\Lib\\site-packages\\neurokit2\\hrv\\hrv_nonlinear.py:536: NeuroKitWarning: DFA_alpha2 related indices will not be calculated. The maximum duration of the windows provided for the long-term correlation is smaller than the minimum duration of windows. Refer to the `scale` argument in `nk.fractal_dfa()` for more information.\n",
      "  warn(\n",
      "c:\\Users\\khari\\AppData\\Local\\Programs\\Python\\Python313\\Lib\\site-packages\\neurokit2\\hrv\\hrv_nonlinear.py:536: NeuroKitWarning: DFA_alpha2 related indices will not be calculated. The maximum duration of the windows provided for the long-term correlation is smaller than the minimum duration of windows. Refer to the `scale` argument in `nk.fractal_dfa()` for more information.\n",
      "  warn(\n"
     ]
    },
    {
     "name": "stdout",
     "output_type": "stream",
     "text": [
      "nan nan nan nan\n"
     ]
    },
    {
     "name": "stderr",
     "output_type": "stream",
     "text": [
      "c:\\Users\\khari\\AppData\\Local\\Programs\\Python\\Python313\\Lib\\site-packages\\neurokit2\\hrv\\hrv_nonlinear.py:536: NeuroKitWarning: DFA_alpha2 related indices will not be calculated. The maximum duration of the windows provided for the long-term correlation is smaller than the minimum duration of windows. Refer to the `scale` argument in `nk.fractal_dfa()` for more information.\n",
      "  warn(\n",
      "c:\\Users\\khari\\AppData\\Local\\Programs\\Python\\Python313\\Lib\\site-packages\\neurokit2\\hrv\\hrv_nonlinear.py:536: NeuroKitWarning: DFA_alpha2 related indices will not be calculated. The maximum duration of the windows provided for the long-term correlation is smaller than the minimum duration of windows. Refer to the `scale` argument in `nk.fractal_dfa()` for more information.\n",
      "  warn(\n"
     ]
    },
    {
     "name": "stdout",
     "output_type": "stream",
     "text": [
      "nan nan nan nan\n"
     ]
    },
    {
     "name": "stderr",
     "output_type": "stream",
     "text": [
      "c:\\Users\\khari\\AppData\\Local\\Programs\\Python\\Python313\\Lib\\site-packages\\neurokit2\\hrv\\hrv_nonlinear.py:536: NeuroKitWarning: DFA_alpha2 related indices will not be calculated. The maximum duration of the windows provided for the long-term correlation is smaller than the minimum duration of windows. Refer to the `scale` argument in `nk.fractal_dfa()` for more information.\n",
      "  warn(\n",
      "c:\\Users\\khari\\AppData\\Local\\Programs\\Python\\Python313\\Lib\\site-packages\\neurokit2\\hrv\\hrv_nonlinear.py:536: NeuroKitWarning: DFA_alpha2 related indices will not be calculated. The maximum duration of the windows provided for the long-term correlation is smaller than the minimum duration of windows. Refer to the `scale` argument in `nk.fractal_dfa()` for more information.\n",
      "  warn(\n"
     ]
    },
    {
     "name": "stdout",
     "output_type": "stream",
     "text": [
      "nan nan nan nan\n"
     ]
    },
    {
     "name": "stderr",
     "output_type": "stream",
     "text": [
      "c:\\Users\\khari\\AppData\\Local\\Programs\\Python\\Python313\\Lib\\site-packages\\neurokit2\\hrv\\hrv_nonlinear.py:536: NeuroKitWarning: DFA_alpha2 related indices will not be calculated. The maximum duration of the windows provided for the long-term correlation is smaller than the minimum duration of windows. Refer to the `scale` argument in `nk.fractal_dfa()` for more information.\n",
      "  warn(\n",
      "c:\\Users\\khari\\AppData\\Local\\Programs\\Python\\Python313\\Lib\\site-packages\\neurokit2\\complexity\\entropy_multiscale.py:349: RuntimeWarning: invalid value encountered in scalar divide\n",
      "  mse = np.trapz(mse) / len(mse)\n",
      "c:\\Users\\khari\\AppData\\Local\\Programs\\Python\\Python313\\Lib\\site-packages\\neurokit2\\hrv\\hrv_nonlinear.py:536: NeuroKitWarning: DFA_alpha2 related indices will not be calculated. The maximum duration of the windows provided for the long-term correlation is smaller than the minimum duration of windows. Refer to the `scale` argument in `nk.fractal_dfa()` for more information.\n",
      "  warn(\n",
      "c:\\Users\\khari\\AppData\\Local\\Programs\\Python\\Python313\\Lib\\site-packages\\neurokit2\\complexity\\entropy_multiscale.py:349: RuntimeWarning: invalid value encountered in scalar divide\n",
      "  mse = np.trapz(mse) / len(mse)\n"
     ]
    },
    {
     "name": "stdout",
     "output_type": "stream",
     "text": [
      "nan nan nan nan\n"
     ]
    },
    {
     "name": "stderr",
     "output_type": "stream",
     "text": [
      "c:\\Users\\khari\\AppData\\Local\\Programs\\Python\\Python313\\Lib\\site-packages\\neurokit2\\hrv\\hrv_nonlinear.py:536: NeuroKitWarning: DFA_alpha2 related indices will not be calculated. The maximum duration of the windows provided for the long-term correlation is smaller than the minimum duration of windows. Refer to the `scale` argument in `nk.fractal_dfa()` for more information.\n",
      "  warn(\n",
      "c:\\Users\\khari\\AppData\\Local\\Programs\\Python\\Python313\\Lib\\site-packages\\neurokit2\\hrv\\hrv_nonlinear.py:536: NeuroKitWarning: DFA_alpha2 related indices will not be calculated. The maximum duration of the windows provided for the long-term correlation is smaller than the minimum duration of windows. Refer to the `scale` argument in `nk.fractal_dfa()` for more information.\n",
      "  warn(\n"
     ]
    },
    {
     "name": "stdout",
     "output_type": "stream",
     "text": [
      "nan nan nan nan\n"
     ]
    },
    {
     "name": "stderr",
     "output_type": "stream",
     "text": [
      "c:\\Users\\khari\\AppData\\Local\\Programs\\Python\\Python313\\Lib\\site-packages\\neurokit2\\hrv\\hrv_nonlinear.py:536: NeuroKitWarning: DFA_alpha2 related indices will not be calculated. The maximum duration of the windows provided for the long-term correlation is smaller than the minimum duration of windows. Refer to the `scale` argument in `nk.fractal_dfa()` for more information.\n",
      "  warn(\n",
      "c:\\Users\\khari\\AppData\\Local\\Programs\\Python\\Python313\\Lib\\site-packages\\neurokit2\\hrv\\hrv_nonlinear.py:536: NeuroKitWarning: DFA_alpha2 related indices will not be calculated. The maximum duration of the windows provided for the long-term correlation is smaller than the minimum duration of windows. Refer to the `scale` argument in `nk.fractal_dfa()` for more information.\n",
      "  warn(\n"
     ]
    },
    {
     "name": "stdout",
     "output_type": "stream",
     "text": [
      "nan nan nan nan\n"
     ]
    },
    {
     "name": "stderr",
     "output_type": "stream",
     "text": [
      "c:\\Users\\khari\\AppData\\Local\\Programs\\Python\\Python313\\Lib\\site-packages\\neurokit2\\hrv\\hrv_nonlinear.py:536: NeuroKitWarning: DFA_alpha2 related indices will not be calculated. The maximum duration of the windows provided for the long-term correlation is smaller than the minimum duration of windows. Refer to the `scale` argument in `nk.fractal_dfa()` for more information.\n",
      "  warn(\n",
      "c:\\Users\\khari\\AppData\\Local\\Programs\\Python\\Python313\\Lib\\site-packages\\neurokit2\\complexity\\entropy_multiscale.py:349: RuntimeWarning: invalid value encountered in scalar divide\n",
      "  mse = np.trapz(mse) / len(mse)\n",
      "c:\\Users\\khari\\AppData\\Local\\Programs\\Python\\Python313\\Lib\\site-packages\\neurokit2\\hrv\\hrv_nonlinear.py:536: NeuroKitWarning: DFA_alpha2 related indices will not be calculated. The maximum duration of the windows provided for the long-term correlation is smaller than the minimum duration of windows. Refer to the `scale` argument in `nk.fractal_dfa()` for more information.\n",
      "  warn(\n",
      "c:\\Users\\khari\\AppData\\Local\\Programs\\Python\\Python313\\Lib\\site-packages\\neurokit2\\complexity\\entropy_multiscale.py:349: RuntimeWarning: invalid value encountered in scalar divide\n",
      "  mse = np.trapz(mse) / len(mse)\n"
     ]
    },
    {
     "name": "stdout",
     "output_type": "stream",
     "text": [
      "nan nan nan nan\n"
     ]
    },
    {
     "name": "stderr",
     "output_type": "stream",
     "text": [
      "c:\\Users\\khari\\AppData\\Local\\Programs\\Python\\Python313\\Lib\\site-packages\\neurokit2\\hrv\\hrv_nonlinear.py:536: NeuroKitWarning: DFA_alpha2 related indices will not be calculated. The maximum duration of the windows provided for the long-term correlation is smaller than the minimum duration of windows. Refer to the `scale` argument in `nk.fractal_dfa()` for more information.\n",
      "  warn(\n",
      "c:\\Users\\khari\\AppData\\Local\\Programs\\Python\\Python313\\Lib\\site-packages\\neurokit2\\hrv\\hrv_nonlinear.py:536: NeuroKitWarning: DFA_alpha2 related indices will not be calculated. The maximum duration of the windows provided for the long-term correlation is smaller than the minimum duration of windows. Refer to the `scale` argument in `nk.fractal_dfa()` for more information.\n",
      "  warn(\n"
     ]
    },
    {
     "name": "stdout",
     "output_type": "stream",
     "text": [
      "nan nan nan nan\n"
     ]
    },
    {
     "name": "stderr",
     "output_type": "stream",
     "text": [
      "c:\\Users\\khari\\AppData\\Local\\Programs\\Python\\Python313\\Lib\\site-packages\\neurokit2\\hrv\\hrv_nonlinear.py:536: NeuroKitWarning: DFA_alpha2 related indices will not be calculated. The maximum duration of the windows provided for the long-term correlation is smaller than the minimum duration of windows. Refer to the `scale` argument in `nk.fractal_dfa()` for more information.\n",
      "  warn(\n",
      "c:\\Users\\khari\\AppData\\Local\\Programs\\Python\\Python313\\Lib\\site-packages\\neurokit2\\complexity\\entropy_multiscale.py:349: RuntimeWarning: invalid value encountered in scalar divide\n",
      "  mse = np.trapz(mse) / len(mse)\n",
      "c:\\Users\\khari\\AppData\\Local\\Programs\\Python\\Python313\\Lib\\site-packages\\neurokit2\\complexity\\optim_complexity_k.py:134: RuntimeWarning: divide by zero encountered in divide\n",
      "  normalization = (n - 1) / (np.floor((n - k_subrange) / k).astype(int) * k)\n",
      "c:\\Users\\khari\\AppData\\Local\\Programs\\Python\\Python313\\Lib\\site-packages\\neurokit2\\complexity\\optim_complexity_k.py:135: RuntimeWarning: invalid value encountered in multiply\n",
      "  sets = (np.nansum(np.abs(np.diff(sig_values)), axis=1) * normalization) / k\n",
      "c:\\Users\\khari\\AppData\\Local\\Programs\\Python\\Python313\\Lib\\site-packages\\neurokit2\\hrv\\hrv_nonlinear.py:536: NeuroKitWarning: DFA_alpha2 related indices will not be calculated. The maximum duration of the windows provided for the long-term correlation is smaller than the minimum duration of windows. Refer to the `scale` argument in `nk.fractal_dfa()` for more information.\n",
      "  warn(\n",
      "c:\\Users\\khari\\AppData\\Local\\Programs\\Python\\Python313\\Lib\\site-packages\\neurokit2\\complexity\\entropy_multiscale.py:349: RuntimeWarning: invalid value encountered in scalar divide\n",
      "  mse = np.trapz(mse) / len(mse)\n",
      "c:\\Users\\khari\\AppData\\Local\\Programs\\Python\\Python313\\Lib\\site-packages\\neurokit2\\complexity\\optim_complexity_k.py:134: RuntimeWarning: divide by zero encountered in divide\n",
      "  normalization = (n - 1) / (np.floor((n - k_subrange) / k).astype(int) * k)\n",
      "c:\\Users\\khari\\AppData\\Local\\Programs\\Python\\Python313\\Lib\\site-packages\\neurokit2\\complexity\\optim_complexity_k.py:135: RuntimeWarning: invalid value encountered in multiply\n",
      "  sets = (np.nansum(np.abs(np.diff(sig_values)), axis=1) * normalization) / k\n"
     ]
    },
    {
     "name": "stdout",
     "output_type": "stream",
     "text": [
      "nan nan nan nan\n"
     ]
    },
    {
     "name": "stderr",
     "output_type": "stream",
     "text": [
      "c:\\Users\\khari\\AppData\\Local\\Programs\\Python\\Python313\\Lib\\site-packages\\neurokit2\\hrv\\hrv_nonlinear.py:536: NeuroKitWarning: DFA_alpha2 related indices will not be calculated. The maximum duration of the windows provided for the long-term correlation is smaller than the minimum duration of windows. Refer to the `scale` argument in `nk.fractal_dfa()` for more information.\n",
      "  warn(\n",
      "c:\\Users\\khari\\AppData\\Local\\Programs\\Python\\Python313\\Lib\\site-packages\\neurokit2\\hrv\\hrv_nonlinear.py:536: NeuroKitWarning: DFA_alpha2 related indices will not be calculated. The maximum duration of the windows provided for the long-term correlation is smaller than the minimum duration of windows. Refer to the `scale` argument in `nk.fractal_dfa()` for more information.\n",
      "  warn(\n"
     ]
    },
    {
     "name": "stdout",
     "output_type": "stream",
     "text": [
      "nan nan nan nan\n"
     ]
    },
    {
     "name": "stderr",
     "output_type": "stream",
     "text": [
      "c:\\Users\\khari\\AppData\\Local\\Programs\\Python\\Python313\\Lib\\site-packages\\neurokit2\\hrv\\hrv_nonlinear.py:536: NeuroKitWarning: DFA_alpha2 related indices will not be calculated. The maximum duration of the windows provided for the long-term correlation is smaller than the minimum duration of windows. Refer to the `scale` argument in `nk.fractal_dfa()` for more information.\n",
      "  warn(\n",
      "c:\\Users\\khari\\AppData\\Local\\Programs\\Python\\Python313\\Lib\\site-packages\\neurokit2\\complexity\\entropy_multiscale.py:349: RuntimeWarning: invalid value encountered in scalar divide\n",
      "  mse = np.trapz(mse) / len(mse)\n",
      "c:\\Users\\khari\\AppData\\Local\\Programs\\Python\\Python313\\Lib\\site-packages\\neurokit2\\complexity\\entropy_multiscale.py:349: RuntimeWarning: invalid value encountered in scalar divide\n",
      "  mse = np.trapz(mse) / len(mse)\n",
      "c:\\Users\\khari\\AppData\\Local\\Programs\\Python\\Python313\\Lib\\site-packages\\neurokit2\\complexity\\entropy_multiscale.py:349: RuntimeWarning: invalid value encountered in scalar divide\n",
      "  mse = np.trapz(mse) / len(mse)\n",
      "c:\\Users\\khari\\AppData\\Local\\Programs\\Python\\Python313\\Lib\\site-packages\\neurokit2\\hrv\\hrv_nonlinear.py:536: NeuroKitWarning: DFA_alpha2 related indices will not be calculated. The maximum duration of the windows provided for the long-term correlation is smaller than the minimum duration of windows. Refer to the `scale` argument in `nk.fractal_dfa()` for more information.\n",
      "  warn(\n",
      "c:\\Users\\khari\\AppData\\Local\\Programs\\Python\\Python313\\Lib\\site-packages\\neurokit2\\complexity\\entropy_multiscale.py:349: RuntimeWarning: invalid value encountered in scalar divide\n",
      "  mse = np.trapz(mse) / len(mse)\n",
      "c:\\Users\\khari\\AppData\\Local\\Programs\\Python\\Python313\\Lib\\site-packages\\neurokit2\\complexity\\entropy_multiscale.py:349: RuntimeWarning: invalid value encountered in scalar divide\n",
      "  mse = np.trapz(mse) / len(mse)\n",
      "c:\\Users\\khari\\AppData\\Local\\Programs\\Python\\Python313\\Lib\\site-packages\\neurokit2\\complexity\\entropy_multiscale.py:349: RuntimeWarning: invalid value encountered in scalar divide\n",
      "  mse = np.trapz(mse) / len(mse)\n",
      "\n",
      "Этапы Бартаев Дмитрий Михайлович_57:  64%|██████▍   | 18/28 [00:23<00:10,  1.08s/it]"
     ]
    },
    {
     "name": "stdout",
     "output_type": "stream",
     "text": [
      "nan nan nan nan\n"
     ]
    },
    {
     "name": "stderr",
     "output_type": "stream",
     "text": [
      "\u001b[Ac:\\Users\\khari\\AppData\\Local\\Programs\\Python\\Python313\\Lib\\site-packages\\neurokit2\\hrv\\hrv_nonlinear.py:536: NeuroKitWarning: DFA_alpha2 related indices will not be calculated. The maximum duration of the windows provided for the long-term correlation is smaller than the minimum duration of windows. Refer to the `scale` argument in `nk.fractal_dfa()` for more information.\n",
      "  warn(\n",
      "c:\\Users\\khari\\AppData\\Local\\Programs\\Python\\Python313\\Lib\\site-packages\\neurokit2\\complexity\\entropy_multiscale.py:349: RuntimeWarning: invalid value encountered in scalar divide\n",
      "  mse = np.trapz(mse) / len(mse)\n",
      "c:\\Users\\khari\\AppData\\Local\\Programs\\Python\\Python313\\Lib\\site-packages\\neurokit2\\hrv\\hrv_nonlinear.py:536: NeuroKitWarning: DFA_alpha2 related indices will not be calculated. The maximum duration of the windows provided for the long-term correlation is smaller than the minimum duration of windows. Refer to the `scale` argument in `nk.fractal_dfa()` for more information.\n",
      "  warn(\n",
      "c:\\Users\\khari\\AppData\\Local\\Programs\\Python\\Python313\\Lib\\site-packages\\neurokit2\\complexity\\entropy_multiscale.py:349: RuntimeWarning: invalid value encountered in scalar divide\n",
      "  mse = np.trapz(mse) / len(mse)\n"
     ]
    },
    {
     "name": "stdout",
     "output_type": "stream",
     "text": [
      "nan nan nan nan\n"
     ]
    },
    {
     "name": "stderr",
     "output_type": "stream",
     "text": [
      "c:\\Users\\khari\\AppData\\Local\\Programs\\Python\\Python313\\Lib\\site-packages\\neurokit2\\hrv\\hrv_nonlinear.py:536: NeuroKitWarning: DFA_alpha2 related indices will not be calculated. The maximum duration of the windows provided for the long-term correlation is smaller than the minimum duration of windows. Refer to the `scale` argument in `nk.fractal_dfa()` for more information.\n",
      "  warn(\n",
      "c:\\Users\\khari\\AppData\\Local\\Programs\\Python\\Python313\\Lib\\site-packages\\neurokit2\\complexity\\entropy_multiscale.py:349: RuntimeWarning: invalid value encountered in scalar divide\n",
      "  mse = np.trapz(mse) / len(mse)\n",
      "c:\\Users\\khari\\AppData\\Local\\Programs\\Python\\Python313\\Lib\\site-packages\\neurokit2\\complexity\\optim_complexity_k.py:134: RuntimeWarning: divide by zero encountered in divide\n",
      "  normalization = (n - 1) / (np.floor((n - k_subrange) / k).astype(int) * k)\n",
      "c:\\Users\\khari\\AppData\\Local\\Programs\\Python\\Python313\\Lib\\site-packages\\neurokit2\\complexity\\optim_complexity_k.py:135: RuntimeWarning: invalid value encountered in multiply\n",
      "  sets = (np.nansum(np.abs(np.diff(sig_values)), axis=1) * normalization) / k\n",
      "c:\\Users\\khari\\AppData\\Local\\Programs\\Python\\Python313\\Lib\\site-packages\\neurokit2\\hrv\\hrv_nonlinear.py:536: NeuroKitWarning: DFA_alpha2 related indices will not be calculated. The maximum duration of the windows provided for the long-term correlation is smaller than the minimum duration of windows. Refer to the `scale` argument in `nk.fractal_dfa()` for more information.\n",
      "  warn(\n",
      "c:\\Users\\khari\\AppData\\Local\\Programs\\Python\\Python313\\Lib\\site-packages\\neurokit2\\complexity\\entropy_multiscale.py:349: RuntimeWarning: invalid value encountered in scalar divide\n",
      "  mse = np.trapz(mse) / len(mse)\n",
      "c:\\Users\\khari\\AppData\\Local\\Programs\\Python\\Python313\\Lib\\site-packages\\neurokit2\\complexity\\optim_complexity_k.py:134: RuntimeWarning: divide by zero encountered in divide\n",
      "  normalization = (n - 1) / (np.floor((n - k_subrange) / k).astype(int) * k)\n",
      "c:\\Users\\khari\\AppData\\Local\\Programs\\Python\\Python313\\Lib\\site-packages\\neurokit2\\complexity\\optim_complexity_k.py:135: RuntimeWarning: invalid value encountered in multiply\n",
      "  sets = (np.nansum(np.abs(np.diff(sig_values)), axis=1) * normalization) / k\n"
     ]
    },
    {
     "name": "stdout",
     "output_type": "stream",
     "text": [
      "nan nan nan nan\n"
     ]
    },
    {
     "name": "stderr",
     "output_type": "stream",
     "text": [
      "c:\\Users\\khari\\AppData\\Local\\Programs\\Python\\Python313\\Lib\\site-packages\\neurokit2\\hrv\\hrv_nonlinear.py:536: NeuroKitWarning: DFA_alpha2 related indices will not be calculated. The maximum duration of the windows provided for the long-term correlation is smaller than the minimum duration of windows. Refer to the `scale` argument in `nk.fractal_dfa()` for more information.\n",
      "  warn(\n",
      "c:\\Users\\khari\\AppData\\Local\\Programs\\Python\\Python313\\Lib\\site-packages\\neurokit2\\hrv\\hrv_nonlinear.py:536: NeuroKitWarning: DFA_alpha2 related indices will not be calculated. The maximum duration of the windows provided for the long-term correlation is smaller than the minimum duration of windows. Refer to the `scale` argument in `nk.fractal_dfa()` for more information.\n",
      "  warn(\n",
      "c:\\Users\\khari\\AppData\\Local\\Programs\\Python\\Python313\\Lib\\site-packages\\neurokit2\\hrv\\hrv_nonlinear.py:536: NeuroKitWarning: DFA_alpha2 related indices will not be calculated. The maximum duration of the windows provided for the long-term correlation is smaller than the minimum duration of windows. Refer to the `scale` argument in `nk.fractal_dfa()` for more information.\n",
      "  warn(\n",
      "c:\\Users\\khari\\AppData\\Local\\Programs\\Python\\Python313\\Lib\\site-packages\\neurokit2\\complexity\\entropy_multiscale.py:349: RuntimeWarning: invalid value encountered in scalar divide\n",
      "  mse = np.trapz(mse) / len(mse)\n",
      "c:\\Users\\khari\\AppData\\Local\\Programs\\Python\\Python313\\Lib\\site-packages\\neurokit2\\complexity\\optim_complexity_k.py:134: RuntimeWarning: divide by zero encountered in divide\n",
      "  normalization = (n - 1) / (np.floor((n - k_subrange) / k).astype(int) * k)\n",
      "c:\\Users\\khari\\AppData\\Local\\Programs\\Python\\Python313\\Lib\\site-packages\\neurokit2\\complexity\\optim_complexity_k.py:135: RuntimeWarning: invalid value encountered in multiply\n",
      "  sets = (np.nansum(np.abs(np.diff(sig_values)), axis=1) * normalization) / k\n"
     ]
    },
    {
     "name": "stdout",
     "output_type": "stream",
     "text": [
      "nan nan nan nan\n"
     ]
    },
    {
     "name": "stderr",
     "output_type": "stream",
     "text": [
      "c:\\Users\\khari\\AppData\\Local\\Programs\\Python\\Python313\\Lib\\site-packages\\neurokit2\\hrv\\hrv_nonlinear.py:536: NeuroKitWarning: DFA_alpha2 related indices will not be calculated. The maximum duration of the windows provided for the long-term correlation is smaller than the minimum duration of windows. Refer to the `scale` argument in `nk.fractal_dfa()` for more information.\n",
      "  warn(\n",
      "c:\\Users\\khari\\AppData\\Local\\Programs\\Python\\Python313\\Lib\\site-packages\\neurokit2\\complexity\\entropy_multiscale.py:349: RuntimeWarning: invalid value encountered in scalar divide\n",
      "  mse = np.trapz(mse) / len(mse)\n",
      "c:\\Users\\khari\\AppData\\Local\\Programs\\Python\\Python313\\Lib\\site-packages\\neurokit2\\complexity\\optim_complexity_k.py:134: RuntimeWarning: divide by zero encountered in divide\n",
      "  normalization = (n - 1) / (np.floor((n - k_subrange) / k).astype(int) * k)\n",
      "c:\\Users\\khari\\AppData\\Local\\Programs\\Python\\Python313\\Lib\\site-packages\\neurokit2\\complexity\\optim_complexity_k.py:135: RuntimeWarning: invalid value encountered in multiply\n",
      "  sets = (np.nansum(np.abs(np.diff(sig_values)), axis=1) * normalization) / k\n"
     ]
    },
    {
     "name": "stdout",
     "output_type": "stream",
     "text": [
      "nan nan nan nan\n"
     ]
    },
    {
     "name": "stderr",
     "output_type": "stream",
     "text": [
      "c:\\Users\\khari\\AppData\\Local\\Programs\\Python\\Python313\\Lib\\site-packages\\neurokit2\\hrv\\hrv_nonlinear.py:536: NeuroKitWarning: DFA_alpha2 related indices will not be calculated. The maximum duration of the windows provided for the long-term correlation is smaller than the minimum duration of windows. Refer to the `scale` argument in `nk.fractal_dfa()` for more information.\n",
      "  warn(\n",
      "c:\\Users\\khari\\AppData\\Local\\Programs\\Python\\Python313\\Lib\\site-packages\\neurokit2\\hrv\\hrv_nonlinear.py:536: NeuroKitWarning: DFA_alpha2 related indices will not be calculated. The maximum duration of the windows provided for the long-term correlation is smaller than the minimum duration of windows. Refer to the `scale` argument in `nk.fractal_dfa()` for more information.\n",
      "  warn(\n",
      "c:\\Users\\khari\\AppData\\Local\\Programs\\Python\\Python313\\Lib\\site-packages\\neurokit2\\complexity\\entropy_multiscale.py:349: RuntimeWarning: invalid value encountered in scalar divide\n",
      "  mse = np.trapz(mse) / len(mse)\n",
      "c:\\Users\\khari\\AppData\\Local\\Programs\\Python\\Python313\\Lib\\site-packages\\neurokit2\\complexity\\entropy_multiscale.py:349: RuntimeWarning: invalid value encountered in scalar divide\n",
      "  mse = np.trapz(mse) / len(mse)\n",
      "c:\\Users\\khari\\AppData\\Local\\Programs\\Python\\Python313\\Lib\\site-packages\\neurokit2\\complexity\\entropy_multiscale.py:349: RuntimeWarning: invalid value encountered in scalar divide\n",
      "  mse = np.trapz(mse) / len(mse)\n"
     ]
    },
    {
     "name": "stdout",
     "output_type": "stream",
     "text": [
      "nan nan nan nan\n"
     ]
    },
    {
     "name": "stderr",
     "output_type": "stream",
     "text": [
      "c:\\Users\\khari\\AppData\\Local\\Programs\\Python\\Python313\\Lib\\site-packages\\neurokit2\\hrv\\hrv_nonlinear.py:536: NeuroKitWarning: DFA_alpha2 related indices will not be calculated. The maximum duration of the windows provided for the long-term correlation is smaller than the minimum duration of windows. Refer to the `scale` argument in `nk.fractal_dfa()` for more information.\n",
      "  warn(\n",
      "c:\\Users\\khari\\AppData\\Local\\Programs\\Python\\Python313\\Lib\\site-packages\\neurokit2\\complexity\\entropy_multiscale.py:349: RuntimeWarning: invalid value encountered in scalar divide\n",
      "  mse = np.trapz(mse) / len(mse)\n",
      "c:\\Users\\khari\\AppData\\Local\\Programs\\Python\\Python313\\Lib\\site-packages\\neurokit2\\complexity\\optim_complexity_k.py:134: RuntimeWarning: divide by zero encountered in divide\n",
      "  normalization = (n - 1) / (np.floor((n - k_subrange) / k).astype(int) * k)\n",
      "c:\\Users\\khari\\AppData\\Local\\Programs\\Python\\Python313\\Lib\\site-packages\\neurokit2\\complexity\\optim_complexity_k.py:135: RuntimeWarning: invalid value encountered in multiply\n",
      "  sets = (np.nansum(np.abs(np.diff(sig_values)), axis=1) * normalization) / k\n",
      "c:\\Users\\khari\\AppData\\Local\\Programs\\Python\\Python313\\Lib\\site-packages\\neurokit2\\hrv\\hrv_nonlinear.py:536: NeuroKitWarning: DFA_alpha2 related indices will not be calculated. The maximum duration of the windows provided for the long-term correlation is smaller than the minimum duration of windows. Refer to the `scale` argument in `nk.fractal_dfa()` for more information.\n",
      "  warn(\n",
      "c:\\Users\\khari\\AppData\\Local\\Programs\\Python\\Python313\\Lib\\site-packages\\neurokit2\\complexity\\entropy_multiscale.py:349: RuntimeWarning: invalid value encountered in scalar divide\n",
      "  mse = np.trapz(mse) / len(mse)\n",
      "c:\\Users\\khari\\AppData\\Local\\Programs\\Python\\Python313\\Lib\\site-packages\\neurokit2\\complexity\\optim_complexity_k.py:134: RuntimeWarning: divide by zero encountered in divide\n",
      "  normalization = (n - 1) / (np.floor((n - k_subrange) / k).astype(int) * k)\n",
      "c:\\Users\\khari\\AppData\\Local\\Programs\\Python\\Python313\\Lib\\site-packages\\neurokit2\\complexity\\optim_complexity_k.py:135: RuntimeWarning: invalid value encountered in multiply\n",
      "  sets = (np.nansum(np.abs(np.diff(sig_values)), axis=1) * normalization) / k\n"
     ]
    },
    {
     "name": "stdout",
     "output_type": "stream",
     "text": [
      "nan nan nan nan\n"
     ]
    },
    {
     "name": "stderr",
     "output_type": "stream",
     "text": [
      "c:\\Users\\khari\\AppData\\Local\\Programs\\Python\\Python313\\Lib\\site-packages\\neurokit2\\hrv\\hrv_nonlinear.py:536: NeuroKitWarning: DFA_alpha2 related indices will not be calculated. The maximum duration of the windows provided for the long-term correlation is smaller than the minimum duration of windows. Refer to the `scale` argument in `nk.fractal_dfa()` for more information.\n",
      "  warn(\n",
      "c:\\Users\\khari\\AppData\\Local\\Programs\\Python\\Python313\\Lib\\site-packages\\neurokit2\\hrv\\hrv_nonlinear.py:536: NeuroKitWarning: DFA_alpha2 related indices will not be calculated. The maximum duration of the windows provided for the long-term correlation is smaller than the minimum duration of windows. Refer to the `scale` argument in `nk.fractal_dfa()` for more information.\n",
      "  warn(\n"
     ]
    },
    {
     "name": "stdout",
     "output_type": "stream",
     "text": [
      "nan nan nan nan\n"
     ]
    },
    {
     "name": "stderr",
     "output_type": "stream",
     "text": [
      "c:\\Users\\khari\\AppData\\Local\\Programs\\Python\\Python313\\Lib\\site-packages\\neurokit2\\hrv\\hrv_nonlinear.py:536: NeuroKitWarning: DFA_alpha2 related indices will not be calculated. The maximum duration of the windows provided for the long-term correlation is smaller than the minimum duration of windows. Refer to the `scale` argument in `nk.fractal_dfa()` for more information.\n",
      "  warn(\n",
      "c:\\Users\\khari\\AppData\\Local\\Programs\\Python\\Python313\\Lib\\site-packages\\neurokit2\\hrv\\hrv_nonlinear.py:536: NeuroKitWarning: DFA_alpha2 related indices will not be calculated. The maximum duration of the windows provided for the long-term correlation is smaller than the minimum duration of windows. Refer to the `scale` argument in `nk.fractal_dfa()` for more information.\n",
      "  warn(\n"
     ]
    },
    {
     "name": "stdout",
     "output_type": "stream",
     "text": [
      "nan nan nan nan\n"
     ]
    },
    {
     "name": "stderr",
     "output_type": "stream",
     "text": [
      "c:\\Users\\khari\\AppData\\Local\\Programs\\Python\\Python313\\Lib\\site-packages\\neurokit2\\hrv\\hrv_nonlinear.py:536: NeuroKitWarning: DFA_alpha2 related indices will not be calculated. The maximum duration of the windows provided for the long-term correlation is smaller than the minimum duration of windows. Refer to the `scale` argument in `nk.fractal_dfa()` for more information.\n",
      "  warn(\n",
      "c:\\Users\\khari\\AppData\\Local\\Programs\\Python\\Python313\\Lib\\site-packages\\neurokit2\\hrv\\hrv_nonlinear.py:536: NeuroKitWarning: DFA_alpha2 related indices will not be calculated. The maximum duration of the windows provided for the long-term correlation is smaller than the minimum duration of windows. Refer to the `scale` argument in `nk.fractal_dfa()` for more information.\n",
      "  warn(\n"
     ]
    },
    {
     "name": "stdout",
     "output_type": "stream",
     "text": [
      "nan nan nan nan\n"
     ]
    },
    {
     "name": "stderr",
     "output_type": "stream",
     "text": [
      "c:\\Users\\khari\\AppData\\Local\\Programs\\Python\\Python313\\Lib\\site-packages\\neurokit2\\hrv\\hrv_nonlinear.py:536: NeuroKitWarning: DFA_alpha2 related indices will not be calculated. The maximum duration of the windows provided for the long-term correlation is smaller than the minimum duration of windows. Refer to the `scale` argument in `nk.fractal_dfa()` for more information.\n",
      "  warn(\n",
      "c:\\Users\\khari\\AppData\\Local\\Programs\\Python\\Python313\\Lib\\site-packages\\neurokit2\\hrv\\hrv_nonlinear.py:536: NeuroKitWarning: DFA_alpha2 related indices will not be calculated. The maximum duration of the windows provided for the long-term correlation is smaller than the minimum duration of windows. Refer to the `scale` argument in `nk.fractal_dfa()` for more information.\n",
      "  warn(\n",
      "Обработка испытуемых:  10%|█         | 2/20 [00:59<09:10, 30.61s/it]"
     ]
    },
    {
     "name": "stdout",
     "output_type": "stream",
     "text": [
      "nan nan nan nan\n"
     ]
    },
    {
     "name": "stderr",
     "output_type": "stream",
     "text": [
      "c:\\Users\\khari\\AppData\\Local\\Programs\\Python\\Python313\\Lib\\site-packages\\neurokit2\\hrv\\hrv_nonlinear.py:536: NeuroKitWarning: DFA_alpha2 related indices will not be calculated. The maximum duration of the windows provided for the long-term correlation is smaller than the minimum duration of windows. Refer to the `scale` argument in `nk.fractal_dfa()` for more information.\n",
      "  warn(\n",
      "c:\\Users\\khari\\AppData\\Local\\Programs\\Python\\Python313\\Lib\\site-packages\\neurokit2\\hrv\\hrv_nonlinear.py:536: NeuroKitWarning: DFA_alpha2 related indices will not be calculated. The maximum duration of the windows provided for the long-term correlation is smaller than the minimum duration of windows. Refer to the `scale` argument in `nk.fractal_dfa()` for more information.\n",
      "  warn(\n"
     ]
    },
    {
     "name": "stdout",
     "output_type": "stream",
     "text": [
      "nan nan nan nan\n"
     ]
    },
    {
     "name": "stderr",
     "output_type": "stream",
     "text": [
      "c:\\Users\\khari\\AppData\\Local\\Programs\\Python\\Python313\\Lib\\site-packages\\neurokit2\\hrv\\hrv_nonlinear.py:536: NeuroKitWarning: DFA_alpha2 related indices will not be calculated. The maximum duration of the windows provided for the long-term correlation is smaller than the minimum duration of windows. Refer to the `scale` argument in `nk.fractal_dfa()` for more information.\n",
      "  warn(\n",
      "c:\\Users\\khari\\AppData\\Local\\Programs\\Python\\Python313\\Lib\\site-packages\\neurokit2\\hrv\\hrv_nonlinear.py:536: NeuroKitWarning: DFA_alpha2 related indices will not be calculated. The maximum duration of the windows provided for the long-term correlation is smaller than the minimum duration of windows. Refer to the `scale` argument in `nk.fractal_dfa()` for more information.\n",
      "  warn(\n"
     ]
    },
    {
     "name": "stdout",
     "output_type": "stream",
     "text": [
      "nan nan nan nan\n"
     ]
    },
    {
     "name": "stderr",
     "output_type": "stream",
     "text": [
      "c:\\Users\\khari\\AppData\\Local\\Programs\\Python\\Python313\\Lib\\site-packages\\neurokit2\\hrv\\hrv_nonlinear.py:536: NeuroKitWarning: DFA_alpha2 related indices will not be calculated. The maximum duration of the windows provided for the long-term correlation is smaller than the minimum duration of windows. Refer to the `scale` argument in `nk.fractal_dfa()` for more information.\n",
      "  warn(\n",
      "c:\\Users\\khari\\AppData\\Local\\Programs\\Python\\Python313\\Lib\\site-packages\\neurokit2\\hrv\\hrv_nonlinear.py:536: NeuroKitWarning: DFA_alpha2 related indices will not be calculated. The maximum duration of the windows provided for the long-term correlation is smaller than the minimum duration of windows. Refer to the `scale` argument in `nk.fractal_dfa()` for more information.\n",
      "  warn(\n"
     ]
    },
    {
     "name": "stdout",
     "output_type": "stream",
     "text": [
      "nan nan nan nan\n"
     ]
    },
    {
     "name": "stderr",
     "output_type": "stream",
     "text": [
      "c:\\Users\\khari\\AppData\\Local\\Programs\\Python\\Python313\\Lib\\site-packages\\neurokit2\\hrv\\hrv_nonlinear.py:536: NeuroKitWarning: DFA_alpha2 related indices will not be calculated. The maximum duration of the windows provided for the long-term correlation is smaller than the minimum duration of windows. Refer to the `scale` argument in `nk.fractal_dfa()` for more information.\n",
      "  warn(\n",
      "c:\\Users\\khari\\AppData\\Local\\Programs\\Python\\Python313\\Lib\\site-packages\\neurokit2\\hrv\\hrv_nonlinear.py:536: NeuroKitWarning: DFA_alpha2 related indices will not be calculated. The maximum duration of the windows provided for the long-term correlation is smaller than the minimum duration of windows. Refer to the `scale` argument in `nk.fractal_dfa()` for more information.\n",
      "  warn(\n"
     ]
    },
    {
     "name": "stdout",
     "output_type": "stream",
     "text": [
      "nan nan nan nan\n"
     ]
    },
    {
     "name": "stderr",
     "output_type": "stream",
     "text": [
      "c:\\Users\\khari\\AppData\\Local\\Programs\\Python\\Python313\\Lib\\site-packages\\neurokit2\\hrv\\hrv_nonlinear.py:536: NeuroKitWarning: DFA_alpha2 related indices will not be calculated. The maximum duration of the windows provided for the long-term correlation is smaller than the minimum duration of windows. Refer to the `scale` argument in `nk.fractal_dfa()` for more information.\n",
      "  warn(\n",
      "c:\\Users\\khari\\AppData\\Local\\Programs\\Python\\Python313\\Lib\\site-packages\\neurokit2\\hrv\\hrv_nonlinear.py:536: NeuroKitWarning: DFA_alpha2 related indices will not be calculated. The maximum duration of the windows provided for the long-term correlation is smaller than the minimum duration of windows. Refer to the `scale` argument in `nk.fractal_dfa()` for more information.\n",
      "  warn(\n"
     ]
    },
    {
     "name": "stdout",
     "output_type": "stream",
     "text": [
      "nan nan nan nan\n"
     ]
    },
    {
     "name": "stderr",
     "output_type": "stream",
     "text": [
      "c:\\Users\\khari\\AppData\\Local\\Programs\\Python\\Python313\\Lib\\site-packages\\neurokit2\\hrv\\hrv_nonlinear.py:536: NeuroKitWarning: DFA_alpha2 related indices will not be calculated. The maximum duration of the windows provided for the long-term correlation is smaller than the minimum duration of windows. Refer to the `scale` argument in `nk.fractal_dfa()` for more information.\n",
      "  warn(\n",
      "c:\\Users\\khari\\AppData\\Local\\Programs\\Python\\Python313\\Lib\\site-packages\\neurokit2\\complexity\\entropy_multiscale.py:349: RuntimeWarning: invalid value encountered in scalar divide\n",
      "  mse = np.trapz(mse) / len(mse)\n",
      "c:\\Users\\khari\\AppData\\Local\\Programs\\Python\\Python313\\Lib\\site-packages\\neurokit2\\hrv\\hrv_nonlinear.py:536: NeuroKitWarning: DFA_alpha2 related indices will not be calculated. The maximum duration of the windows provided for the long-term correlation is smaller than the minimum duration of windows. Refer to the `scale` argument in `nk.fractal_dfa()` for more information.\n",
      "  warn(\n",
      "c:\\Users\\khari\\AppData\\Local\\Programs\\Python\\Python313\\Lib\\site-packages\\neurokit2\\complexity\\entropy_multiscale.py:349: RuntimeWarning: invalid value encountered in scalar divide\n",
      "  mse = np.trapz(mse) / len(mse)\n"
     ]
    },
    {
     "name": "stdout",
     "output_type": "stream",
     "text": [
      "nan nan nan nan\n"
     ]
    },
    {
     "name": "stderr",
     "output_type": "stream",
     "text": [
      "c:\\Users\\khari\\AppData\\Local\\Programs\\Python\\Python313\\Lib\\site-packages\\neurokit2\\hrv\\hrv_nonlinear.py:536: NeuroKitWarning: DFA_alpha2 related indices will not be calculated. The maximum duration of the windows provided for the long-term correlation is smaller than the minimum duration of windows. Refer to the `scale` argument in `nk.fractal_dfa()` for more information.\n",
      "  warn(\n",
      "c:\\Users\\khari\\AppData\\Local\\Programs\\Python\\Python313\\Lib\\site-packages\\neurokit2\\hrv\\hrv_nonlinear.py:536: NeuroKitWarning: DFA_alpha2 related indices will not be calculated. The maximum duration of the windows provided for the long-term correlation is smaller than the minimum duration of windows. Refer to the `scale` argument in `nk.fractal_dfa()` for more information.\n",
      "  warn(\n"
     ]
    },
    {
     "name": "stdout",
     "output_type": "stream",
     "text": [
      "nan nan nan nan\n"
     ]
    },
    {
     "name": "stderr",
     "output_type": "stream",
     "text": [
      "c:\\Users\\khari\\AppData\\Local\\Programs\\Python\\Python313\\Lib\\site-packages\\neurokit2\\hrv\\hrv_nonlinear.py:536: NeuroKitWarning: DFA_alpha2 related indices will not be calculated. The maximum duration of the windows provided for the long-term correlation is smaller than the minimum duration of windows. Refer to the `scale` argument in `nk.fractal_dfa()` for more information.\n",
      "  warn(\n",
      "c:\\Users\\khari\\AppData\\Local\\Programs\\Python\\Python313\\Lib\\site-packages\\neurokit2\\hrv\\hrv_nonlinear.py:536: NeuroKitWarning: DFA_alpha2 related indices will not be calculated. The maximum duration of the windows provided for the long-term correlation is smaller than the minimum duration of windows. Refer to the `scale` argument in `nk.fractal_dfa()` for more information.\n",
      "  warn(\n"
     ]
    },
    {
     "name": "stdout",
     "output_type": "stream",
     "text": [
      "nan nan nan nan\n"
     ]
    },
    {
     "name": "stderr",
     "output_type": "stream",
     "text": [
      "c:\\Users\\khari\\AppData\\Local\\Programs\\Python\\Python313\\Lib\\site-packages\\neurokit2\\hrv\\hrv_nonlinear.py:536: NeuroKitWarning: DFA_alpha2 related indices will not be calculated. The maximum duration of the windows provided for the long-term correlation is smaller than the minimum duration of windows. Refer to the `scale` argument in `nk.fractal_dfa()` for more information.\n",
      "  warn(\n",
      "c:\\Users\\khari\\AppData\\Local\\Programs\\Python\\Python313\\Lib\\site-packages\\neurokit2\\hrv\\hrv_nonlinear.py:536: NeuroKitWarning: DFA_alpha2 related indices will not be calculated. The maximum duration of the windows provided for the long-term correlation is smaller than the minimum duration of windows. Refer to the `scale` argument in `nk.fractal_dfa()` for more information.\n",
      "  warn(\n"
     ]
    },
    {
     "name": "stdout",
     "output_type": "stream",
     "text": [
      "nan nan nan nan\n"
     ]
    },
    {
     "name": "stderr",
     "output_type": "stream",
     "text": [
      "c:\\Users\\khari\\AppData\\Local\\Programs\\Python\\Python313\\Lib\\site-packages\\neurokit2\\hrv\\hrv_nonlinear.py:536: NeuroKitWarning: DFA_alpha2 related indices will not be calculated. The maximum duration of the windows provided for the long-term correlation is smaller than the minimum duration of windows. Refer to the `scale` argument in `nk.fractal_dfa()` for more information.\n",
      "  warn(\n",
      "c:\\Users\\khari\\AppData\\Local\\Programs\\Python\\Python313\\Lib\\site-packages\\neurokit2\\hrv\\hrv_nonlinear.py:536: NeuroKitWarning: DFA_alpha2 related indices will not be calculated. The maximum duration of the windows provided for the long-term correlation is smaller than the minimum duration of windows. Refer to the `scale` argument in `nk.fractal_dfa()` for more information.\n",
      "  warn(\n"
     ]
    },
    {
     "name": "stdout",
     "output_type": "stream",
     "text": [
      "nan nan nan nan\n"
     ]
    },
    {
     "name": "stderr",
     "output_type": "stream",
     "text": [
      "c:\\Users\\khari\\AppData\\Local\\Programs\\Python\\Python313\\Lib\\site-packages\\neurokit2\\hrv\\hrv_nonlinear.py:536: NeuroKitWarning: DFA_alpha2 related indices will not be calculated. The maximum duration of the windows provided for the long-term correlation is smaller than the minimum duration of windows. Refer to the `scale` argument in `nk.fractal_dfa()` for more information.\n",
      "  warn(\n",
      "c:\\Users\\khari\\AppData\\Local\\Programs\\Python\\Python313\\Lib\\site-packages\\neurokit2\\hrv\\hrv_nonlinear.py:536: NeuroKitWarning: DFA_alpha2 related indices will not be calculated. The maximum duration of the windows provided for the long-term correlation is smaller than the minimum duration of windows. Refer to the `scale` argument in `nk.fractal_dfa()` for more information.\n",
      "  warn(\n"
     ]
    },
    {
     "name": "stdout",
     "output_type": "stream",
     "text": [
      "nan nan nan nan\n"
     ]
    },
    {
     "name": "stderr",
     "output_type": "stream",
     "text": [
      "c:\\Users\\khari\\AppData\\Local\\Programs\\Python\\Python313\\Lib\\site-packages\\neurokit2\\hrv\\hrv_nonlinear.py:536: NeuroKitWarning: DFA_alpha2 related indices will not be calculated. The maximum duration of the windows provided for the long-term correlation is smaller than the minimum duration of windows. Refer to the `scale` argument in `nk.fractal_dfa()` for more information.\n",
      "  warn(\n",
      "c:\\Users\\khari\\AppData\\Local\\Programs\\Python\\Python313\\Lib\\site-packages\\neurokit2\\hrv\\hrv_nonlinear.py:536: NeuroKitWarning: DFA_alpha2 related indices will not be calculated. The maximum duration of the windows provided for the long-term correlation is smaller than the minimum duration of windows. Refer to the `scale` argument in `nk.fractal_dfa()` for more information.\n",
      "  warn(\n"
     ]
    },
    {
     "name": "stdout",
     "output_type": "stream",
     "text": [
      "nan nan nan nan\n"
     ]
    },
    {
     "name": "stderr",
     "output_type": "stream",
     "text": [
      "c:\\Users\\khari\\AppData\\Local\\Programs\\Python\\Python313\\Lib\\site-packages\\neurokit2\\hrv\\hrv_nonlinear.py:536: NeuroKitWarning: DFA_alpha2 related indices will not be calculated. The maximum duration of the windows provided for the long-term correlation is smaller than the minimum duration of windows. Refer to the `scale` argument in `nk.fractal_dfa()` for more information.\n",
      "  warn(\n",
      "c:\\Users\\khari\\AppData\\Local\\Programs\\Python\\Python313\\Lib\\site-packages\\neurokit2\\hrv\\hrv_nonlinear.py:536: NeuroKitWarning: DFA_alpha2 related indices will not be calculated. The maximum duration of the windows provided for the long-term correlation is smaller than the minimum duration of windows. Refer to the `scale` argument in `nk.fractal_dfa()` for more information.\n",
      "  warn(\n"
     ]
    },
    {
     "name": "stdout",
     "output_type": "stream",
     "text": [
      "nan nan nan nan\n"
     ]
    },
    {
     "name": "stderr",
     "output_type": "stream",
     "text": [
      "Обработка испытуемых:  10%|█         | 2/20 [01:16<11:26, 38.14s/it]\n"
     ]
    },
    {
     "ename": "KeyboardInterrupt",
     "evalue": "",
     "output_type": "error",
     "traceback": [
      "\u001b[31m---------------------------------------------------------------------------\u001b[39m",
      "\u001b[31mKeyboardInterrupt\u001b[39m                         Traceback (most recent call last)",
      "\u001b[36mCell\u001b[39m\u001b[36m \u001b[39m\u001b[32mIn[2]\u001b[39m\u001b[32m, line 474\u001b[39m\n\u001b[32m    471\u001b[39m         \u001b[38;5;28;01mcontinue\u001b[39;00m\n\u001b[32m    473\u001b[39m df = pd.DataFrame(data_rows)\n\u001b[32m--> \u001b[39m\u001b[32m474\u001b[39m results_df_ppg, results_df_ecg, results_df_eda, results_df_eeg, combined_results = \u001b[43manalyze_all_subjects\u001b[49m\u001b[43m(\u001b[49m\u001b[43mdf\u001b[49m\u001b[43m)\u001b[49m\n\u001b[32m    476\u001b[39m results_df_ppg.to_csv(os.path.join(RESULTS_PATH, \u001b[33m'\u001b[39m\u001b[33mppg_results.csv\u001b[39m\u001b[33m'\u001b[39m), index=\u001b[38;5;28;01mFalse\u001b[39;00m, sep=\u001b[33m'\u001b[39m\u001b[33m,\u001b[39m\u001b[33m'\u001b[39m, encoding=\u001b[33m'\u001b[39m\u001b[33mutf-8-sig\u001b[39m\u001b[33m'\u001b[39m)\n\u001b[32m    477\u001b[39m results_df_ecg.to_csv(os.path.join(RESULTS_PATH, \u001b[33m'\u001b[39m\u001b[33mecg_results.csv\u001b[39m\u001b[33m'\u001b[39m), index=\u001b[38;5;28;01mFalse\u001b[39;00m, sep=\u001b[33m'\u001b[39m\u001b[33m,\u001b[39m\u001b[33m'\u001b[39m, encoding=\u001b[33m'\u001b[39m\u001b[33mutf-8-sig\u001b[39m\u001b[33m'\u001b[39m)\n",
      "\u001b[36mCell\u001b[39m\u001b[36m \u001b[39m\u001b[32mIn[2]\u001b[39m\u001b[32m, line 419\u001b[39m, in \u001b[36manalyze_all_subjects\u001b[39m\u001b[34m(df)\u001b[39m\n\u001b[32m    417\u001b[39m \u001b[38;5;28;01mif\u001b[39;00m \u001b[38;5;129;01mnot\u001b[39;00m signal_df.empty:\n\u001b[32m    418\u001b[39m     signal = signal_df[\u001b[33m'\u001b[39m\u001b[33mДанные\u001b[39m\u001b[33m'\u001b[39m].iloc[\u001b[32m0\u001b[39m]\n\u001b[32m--> \u001b[39m\u001b[32m419\u001b[39m     analysis_result = \u001b[43mprocess_signal\u001b[49m\u001b[43m(\u001b[49m\u001b[43msignal\u001b[49m\u001b[43m,\u001b[49m\u001b[43m \u001b[49m\u001b[43msignal_type\u001b[49m\u001b[43m,\u001b[49m\u001b[43m \u001b[49m\u001b[43mname\u001b[49m\u001b[43m,\u001b[49m\u001b[43m \u001b[49m\u001b[43mstage\u001b[49m\u001b[43m)\u001b[49m\n\u001b[32m    420\u001b[39m     \u001b[38;5;28;01mif\u001b[39;00m analysis_result:\n\u001b[32m    421\u001b[39m         \u001b[38;5;28;01mif\u001b[39;00m signal_type == \u001b[33m'\u001b[39m\u001b[33mPPG\u001b[39m\u001b[33m'\u001b[39m:\n",
      "\u001b[36mCell\u001b[39m\u001b[36m \u001b[39m\u001b[32mIn[2]\u001b[39m\u001b[32m, line 280\u001b[39m, in \u001b[36mprocess_signal\u001b[39m\u001b[34m(signal, signal_type, name, stage, sampling_rate)\u001b[39m\n\u001b[32m    277\u001b[39m     \u001b[38;5;28;01mreturn\u001b[39;00m result\n\u001b[32m    279\u001b[39m \u001b[38;5;28;01melif\u001b[39;00m signal_type == \u001b[33m'\u001b[39m\u001b[33mEDA\u001b[39m\u001b[33m'\u001b[39m:\n\u001b[32m--> \u001b[39m\u001b[32m280\u001b[39m     filtered_eda, info_eda = \u001b[43mnk\u001b[49m\u001b[43m.\u001b[49m\u001b[43meda_process\u001b[49m\u001b[43m(\u001b[49m\u001b[43msignal\u001b[49m\u001b[43m,\u001b[49m\u001b[43m \u001b[49m\u001b[43msampling_rate\u001b[49m\u001b[43m=\u001b[49m\u001b[43msampling_rate\u001b[49m\u001b[43m)\u001b[49m\n\u001b[32m    281\u001b[39m     analysis_result = nk.eda_analyze(filtered_eda, sampling_rate=sampling_rate)\n\u001b[32m    282\u001b[39m     \u001b[38;5;28;01mif\u001b[39;00m analysis_result \u001b[38;5;129;01mis\u001b[39;00m \u001b[38;5;129;01mnot\u001b[39;00m \u001b[38;5;28;01mNone\u001b[39;00m \u001b[38;5;129;01mand\u001b[39;00m \u001b[38;5;129;01mnot\u001b[39;00m analysis_result.empty:\n",
      "\u001b[36mFile \u001b[39m\u001b[32mc:\\Users\\khari\\AppData\\Local\\Programs\\Python\\Python313\\Lib\\site-packages\\neurokit2\\eda\\eda_process.py:103\u001b[39m, in \u001b[36meda_process\u001b[39m\u001b[34m(eda_signal, sampling_rate, method, report, **kwargs)\u001b[39m\n\u001b[32m     95\u001b[39m     eda_decomposed = eda_phasic(\n\u001b[32m     96\u001b[39m         eda_cleaned,\n\u001b[32m     97\u001b[39m         sampling_rate=sampling_rate,\n\u001b[32m     98\u001b[39m         method=methods[\u001b[33m\"\u001b[39m\u001b[33mmethod_phasic\u001b[39m\u001b[33m\"\u001b[39m],\n\u001b[32m     99\u001b[39m         **methods[\u001b[33m\"\u001b[39m\u001b[33mkwargs_phasic\u001b[39m\u001b[33m\"\u001b[39m],\n\u001b[32m    100\u001b[39m     )\n\u001b[32m    102\u001b[39m \u001b[38;5;66;03m# Find peaks\u001b[39;00m\n\u001b[32m--> \u001b[39m\u001b[32m103\u001b[39m peak_signal, info = \u001b[43meda_peaks\u001b[49m\u001b[43m(\u001b[49m\n\u001b[32m    104\u001b[39m \u001b[43m    \u001b[49m\u001b[43meda_decomposed\u001b[49m\u001b[43m[\u001b[49m\u001b[33;43m\"\u001b[39;49m\u001b[33;43mEDA_Phasic\u001b[39;49m\u001b[33;43m\"\u001b[39;49m\u001b[43m]\u001b[49m\u001b[43m.\u001b[49m\u001b[43mvalues\u001b[49m\u001b[43m,\u001b[49m\n\u001b[32m    105\u001b[39m \u001b[43m    \u001b[49m\u001b[43msampling_rate\u001b[49m\u001b[43m=\u001b[49m\u001b[43msampling_rate\u001b[49m\u001b[43m,\u001b[49m\n\u001b[32m    106\u001b[39m \u001b[43m    \u001b[49m\u001b[43mmethod\u001b[49m\u001b[43m=\u001b[49m\u001b[43mmethods\u001b[49m\u001b[43m[\u001b[49m\u001b[33;43m\"\u001b[39;49m\u001b[33;43mmethod_peaks\u001b[39;49m\u001b[33;43m\"\u001b[39;49m\u001b[43m]\u001b[49m\u001b[43m,\u001b[49m\n\u001b[32m    107\u001b[39m \u001b[43m    \u001b[49m\u001b[43mamplitude_min\u001b[49m\u001b[43m=\u001b[49m\u001b[32;43m0.1\u001b[39;49m\u001b[43m,\u001b[49m\n\u001b[32m    108\u001b[39m \u001b[43m    \u001b[49m\u001b[43m*\u001b[49m\u001b[43m*\u001b[49m\u001b[43mmethods\u001b[49m\u001b[43m[\u001b[49m\u001b[33;43m\"\u001b[39;49m\u001b[33;43mkwargs_peaks\u001b[39;49m\u001b[33;43m\"\u001b[39;49m\u001b[43m]\u001b[49m\u001b[43m,\u001b[49m\n\u001b[32m    109\u001b[39m \u001b[43m\u001b[49m\u001b[43m)\u001b[49m\n\u001b[32m    110\u001b[39m info[\u001b[33m\"\u001b[39m\u001b[33msampling_rate\u001b[39m\u001b[33m\"\u001b[39m] = sampling_rate  \u001b[38;5;66;03m# Add sampling rate in dict info\u001b[39;00m\n\u001b[32m    112\u001b[39m \u001b[38;5;66;03m# Store\u001b[39;00m\n",
      "\u001b[36mFile \u001b[39m\u001b[32mc:\\Users\\khari\\AppData\\Local\\Programs\\Python\\Python313\\Lib\\site-packages\\neurokit2\\eda\\eda_peaks.py:106\u001b[39m, in \u001b[36meda_peaks\u001b[39m\u001b[34m(eda_phasic, sampling_rate, method, amplitude_min)\u001b[39m\n\u001b[32m    103\u001b[39m info = _eda_peaks_getfeatures(info, eda_phasic, sampling_rate, recovery_percentage=\u001b[32m0.5\u001b[39m)\n\u001b[32m    105\u001b[39m \u001b[38;5;66;03m# Prepare output.\u001b[39;00m\n\u001b[32m--> \u001b[39m\u001b[32m106\u001b[39m peak_signal = \u001b[43msignal_formatpeaks\u001b[49m\u001b[43m(\u001b[49m\n\u001b[32m    107\u001b[39m \u001b[43m    \u001b[49m\u001b[43minfo\u001b[49m\u001b[43m,\u001b[49m\n\u001b[32m    108\u001b[39m \u001b[43m    \u001b[49m\u001b[43mdesired_length\u001b[49m\u001b[43m=\u001b[49m\u001b[38;5;28;43mlen\u001b[39;49m\u001b[43m(\u001b[49m\u001b[43meda_phasic\u001b[49m\u001b[43m)\u001b[49m\u001b[43m,\u001b[49m\n\u001b[32m    109\u001b[39m \u001b[43m    \u001b[49m\u001b[43mpeak_indices\u001b[49m\u001b[43m=\u001b[49m\u001b[43minfo\u001b[49m\u001b[43m[\u001b[49m\u001b[33;43m\"\u001b[39;49m\u001b[33;43mSCR_Peaks\u001b[39;49m\u001b[33;43m\"\u001b[39;49m\u001b[43m]\u001b[49m\u001b[43m,\u001b[49m\n\u001b[32m    110\u001b[39m \u001b[43m    \u001b[49m\u001b[43mother_indices\u001b[49m\u001b[43m=\u001b[49m\u001b[43minfo\u001b[49m\u001b[43m[\u001b[49m\u001b[33;43m\"\u001b[39;49m\u001b[33;43mSCR_Recovery\u001b[39;49m\u001b[33;43m\"\u001b[39;49m\u001b[43m]\u001b[49m\u001b[43m,\u001b[49m\n\u001b[32m    111\u001b[39m \u001b[43m\u001b[49m\u001b[43m)\u001b[49m\n\u001b[32m    112\u001b[39m info[\u001b[33m\"\u001b[39m\u001b[33msampling_rate\u001b[39m\u001b[33m\"\u001b[39m] = sampling_rate  \u001b[38;5;66;03m# Add sampling rate in dict info\u001b[39;00m\n\u001b[32m    114\u001b[39m \u001b[38;5;28;01mreturn\u001b[39;00m peak_signal, info\n",
      "\u001b[36mFile \u001b[39m\u001b[32mc:\\Users\\khari\\AppData\\Local\\Programs\\Python\\Python313\\Lib\\site-packages\\neurokit2\\signal\\signal_formatpeaks.py:36\u001b[39m, in \u001b[36msignal_formatpeaks\u001b[39m\u001b[34m(info, desired_length, peak_indices, other_indices)\u001b[39m\n\u001b[32m     33\u001b[39m         \u001b[38;5;66;03m# Append peak values to signal\u001b[39;00m\n\u001b[32m     34\u001b[39m         signals[feature] = _signal_from_indices(peak_indices, desired_length, values)\n\u001b[32m---> \u001b[39m\u001b[32m36\u001b[39m signals = \u001b[43mpd\u001b[49m\u001b[43m.\u001b[49m\u001b[43mDataFrame\u001b[49m\u001b[43m(\u001b[49m\u001b[43msignals\u001b[49m\u001b[43m)\u001b[49m\n\u001b[32m     37\u001b[39m \u001b[38;5;28;01mreturn\u001b[39;00m signals\n",
      "\u001b[36mFile \u001b[39m\u001b[32mc:\\Users\\khari\\AppData\\Local\\Programs\\Python\\Python313\\Lib\\site-packages\\pandas\\core\\frame.py:778\u001b[39m, in \u001b[36mDataFrame.__init__\u001b[39m\u001b[34m(self, data, index, columns, dtype, copy)\u001b[39m\n\u001b[32m    772\u001b[39m     mgr = \u001b[38;5;28mself\u001b[39m._init_mgr(\n\u001b[32m    773\u001b[39m         data, axes={\u001b[33m\"\u001b[39m\u001b[33mindex\u001b[39m\u001b[33m\"\u001b[39m: index, \u001b[33m\"\u001b[39m\u001b[33mcolumns\u001b[39m\u001b[33m\"\u001b[39m: columns}, dtype=dtype, copy=copy\n\u001b[32m    774\u001b[39m     )\n\u001b[32m    776\u001b[39m \u001b[38;5;28;01melif\u001b[39;00m \u001b[38;5;28misinstance\u001b[39m(data, \u001b[38;5;28mdict\u001b[39m):\n\u001b[32m    777\u001b[39m     \u001b[38;5;66;03m# GH#38939 de facto copy defaults to False only in non-dict cases\u001b[39;00m\n\u001b[32m--> \u001b[39m\u001b[32m778\u001b[39m     mgr = \u001b[43mdict_to_mgr\u001b[49m\u001b[43m(\u001b[49m\u001b[43mdata\u001b[49m\u001b[43m,\u001b[49m\u001b[43m \u001b[49m\u001b[43mindex\u001b[49m\u001b[43m,\u001b[49m\u001b[43m \u001b[49m\u001b[43mcolumns\u001b[49m\u001b[43m,\u001b[49m\u001b[43m \u001b[49m\u001b[43mdtype\u001b[49m\u001b[43m=\u001b[49m\u001b[43mdtype\u001b[49m\u001b[43m,\u001b[49m\u001b[43m \u001b[49m\u001b[43mcopy\u001b[49m\u001b[43m=\u001b[49m\u001b[43mcopy\u001b[49m\u001b[43m,\u001b[49m\u001b[43m \u001b[49m\u001b[43mtyp\u001b[49m\u001b[43m=\u001b[49m\u001b[43mmanager\u001b[49m\u001b[43m)\u001b[49m\n\u001b[32m    779\u001b[39m \u001b[38;5;28;01melif\u001b[39;00m \u001b[38;5;28misinstance\u001b[39m(data, ma.MaskedArray):\n\u001b[32m    780\u001b[39m     \u001b[38;5;28;01mfrom\u001b[39;00m\u001b[38;5;250m \u001b[39m\u001b[34;01mnumpy\u001b[39;00m\u001b[34;01m.\u001b[39;00m\u001b[34;01mma\u001b[39;00m\u001b[38;5;250m \u001b[39m\u001b[38;5;28;01mimport\u001b[39;00m mrecords\n",
      "\u001b[36mFile \u001b[39m\u001b[32mc:\\Users\\khari\\AppData\\Local\\Programs\\Python\\Python313\\Lib\\site-packages\\pandas\\core\\internals\\construction.py:503\u001b[39m, in \u001b[36mdict_to_mgr\u001b[39m\u001b[34m(data, index, columns, dtype, typ, copy)\u001b[39m\n\u001b[32m    499\u001b[39m     \u001b[38;5;28;01melse\u001b[39;00m:\n\u001b[32m    500\u001b[39m         \u001b[38;5;66;03m# dtype check to exclude e.g. range objects, scalars\u001b[39;00m\n\u001b[32m    501\u001b[39m         arrays = [x.copy() \u001b[38;5;28;01mif\u001b[39;00m \u001b[38;5;28mhasattr\u001b[39m(x, \u001b[33m\"\u001b[39m\u001b[33mdtype\u001b[39m\u001b[33m\"\u001b[39m) \u001b[38;5;28;01melse\u001b[39;00m x \u001b[38;5;28;01mfor\u001b[39;00m x \u001b[38;5;129;01min\u001b[39;00m arrays]\n\u001b[32m--> \u001b[39m\u001b[32m503\u001b[39m \u001b[38;5;28;01mreturn\u001b[39;00m \u001b[43marrays_to_mgr\u001b[49m\u001b[43m(\u001b[49m\u001b[43marrays\u001b[49m\u001b[43m,\u001b[49m\u001b[43m \u001b[49m\u001b[43mcolumns\u001b[49m\u001b[43m,\u001b[49m\u001b[43m \u001b[49m\u001b[43mindex\u001b[49m\u001b[43m,\u001b[49m\u001b[43m \u001b[49m\u001b[43mdtype\u001b[49m\u001b[43m=\u001b[49m\u001b[43mdtype\u001b[49m\u001b[43m,\u001b[49m\u001b[43m \u001b[49m\u001b[43mtyp\u001b[49m\u001b[43m=\u001b[49m\u001b[43mtyp\u001b[49m\u001b[43m,\u001b[49m\u001b[43m \u001b[49m\u001b[43mconsolidate\u001b[49m\u001b[43m=\u001b[49m\u001b[43mcopy\u001b[49m\u001b[43m)\u001b[49m\n",
      "\u001b[36mFile \u001b[39m\u001b[32mc:\\Users\\khari\\AppData\\Local\\Programs\\Python\\Python313\\Lib\\site-packages\\pandas\\core\\internals\\construction.py:152\u001b[39m, in \u001b[36marrays_to_mgr\u001b[39m\u001b[34m(arrays, columns, index, dtype, verify_integrity, typ, consolidate)\u001b[39m\n\u001b[32m    149\u001b[39m axes = [columns, index]\n\u001b[32m    151\u001b[39m \u001b[38;5;28;01mif\u001b[39;00m typ == \u001b[33m\"\u001b[39m\u001b[33mblock\u001b[39m\u001b[33m\"\u001b[39m:\n\u001b[32m--> \u001b[39m\u001b[32m152\u001b[39m     \u001b[38;5;28;01mreturn\u001b[39;00m \u001b[43mcreate_block_manager_from_column_arrays\u001b[49m\u001b[43m(\u001b[49m\n\u001b[32m    153\u001b[39m \u001b[43m        \u001b[49m\u001b[43marrays\u001b[49m\u001b[43m,\u001b[49m\u001b[43m \u001b[49m\u001b[43maxes\u001b[49m\u001b[43m,\u001b[49m\u001b[43m \u001b[49m\u001b[43mconsolidate\u001b[49m\u001b[43m=\u001b[49m\u001b[43mconsolidate\u001b[49m\u001b[43m,\u001b[49m\u001b[43m \u001b[49m\u001b[43mrefs\u001b[49m\u001b[43m=\u001b[49m\u001b[43mrefs\u001b[49m\n\u001b[32m    154\u001b[39m \u001b[43m    \u001b[49m\u001b[43m)\u001b[49m\n\u001b[32m    155\u001b[39m \u001b[38;5;28;01melif\u001b[39;00m typ == \u001b[33m\"\u001b[39m\u001b[33marray\u001b[39m\u001b[33m\"\u001b[39m:\n\u001b[32m    156\u001b[39m     \u001b[38;5;28;01mreturn\u001b[39;00m ArrayManager(arrays, [index, columns])\n",
      "\u001b[36mFile \u001b[39m\u001b[32mc:\\Users\\khari\\AppData\\Local\\Programs\\Python\\Python313\\Lib\\site-packages\\pandas\\core\\internals\\managers.py:2139\u001b[39m, in \u001b[36mcreate_block_manager_from_column_arrays\u001b[39m\u001b[34m(arrays, axes, consolidate, refs)\u001b[39m\n\u001b[32m   2121\u001b[39m \u001b[38;5;28;01mdef\u001b[39;00m\u001b[38;5;250m \u001b[39m\u001b[34mcreate_block_manager_from_column_arrays\u001b[39m(\n\u001b[32m   2122\u001b[39m     arrays: \u001b[38;5;28mlist\u001b[39m[ArrayLike],\n\u001b[32m   2123\u001b[39m     axes: \u001b[38;5;28mlist\u001b[39m[Index],\n\u001b[32m   (...)\u001b[39m\u001b[32m   2135\u001b[39m     \u001b[38;5;66;03m# These last three are sufficient to allow us to safely pass\u001b[39;00m\n\u001b[32m   2136\u001b[39m     \u001b[38;5;66;03m#  verify_integrity=False below.\u001b[39;00m\n\u001b[32m   2138\u001b[39m     \u001b[38;5;28;01mtry\u001b[39;00m:\n\u001b[32m-> \u001b[39m\u001b[32m2139\u001b[39m         blocks = \u001b[43m_form_blocks\u001b[49m\u001b[43m(\u001b[49m\u001b[43marrays\u001b[49m\u001b[43m,\u001b[49m\u001b[43m \u001b[49m\u001b[43mconsolidate\u001b[49m\u001b[43m,\u001b[49m\u001b[43m \u001b[49m\u001b[43mrefs\u001b[49m\u001b[43m)\u001b[49m\n\u001b[32m   2140\u001b[39m         mgr = BlockManager(blocks, axes, verify_integrity=\u001b[38;5;28;01mFalse\u001b[39;00m)\n\u001b[32m   2141\u001b[39m     \u001b[38;5;28;01mexcept\u001b[39;00m \u001b[38;5;167;01mValueError\u001b[39;00m \u001b[38;5;28;01mas\u001b[39;00m e:\n",
      "\u001b[36mFile \u001b[39m\u001b[32mc:\\Users\\khari\\AppData\\Local\\Programs\\Python\\Python313\\Lib\\site-packages\\pandas\\core\\internals\\managers.py:2212\u001b[39m, in \u001b[36m_form_blocks\u001b[39m\u001b[34m(arrays, consolidate, refs)\u001b[39m\n\u001b[32m   2209\u001b[39m \u001b[38;5;28;01mif\u001b[39;00m \u001b[38;5;28missubclass\u001b[39m(dtype.type, (\u001b[38;5;28mstr\u001b[39m, \u001b[38;5;28mbytes\u001b[39m)):\n\u001b[32m   2210\u001b[39m     dtype = np.dtype(\u001b[38;5;28mobject\u001b[39m)\n\u001b[32m-> \u001b[39m\u001b[32m2212\u001b[39m values, placement = \u001b[43m_stack_arrays\u001b[49m\u001b[43m(\u001b[49m\u001b[38;5;28;43mlist\u001b[39;49m\u001b[43m(\u001b[49m\u001b[43mtup_block\u001b[49m\u001b[43m)\u001b[49m\u001b[43m,\u001b[49m\u001b[43m \u001b[49m\u001b[43mdtype\u001b[49m\u001b[43m)\u001b[49m\n\u001b[32m   2213\u001b[39m \u001b[38;5;28;01mif\u001b[39;00m is_dtlike:\n\u001b[32m   2214\u001b[39m     values = ensure_wrapped_if_datetimelike(values)\n",
      "\u001b[36mFile \u001b[39m\u001b[32mc:\\Users\\khari\\AppData\\Local\\Programs\\Python\\Python313\\Lib\\site-packages\\pandas\\core\\internals\\managers.py:2254\u001b[39m, in \u001b[36m_stack_arrays\u001b[39m\u001b[34m(tuples, dtype)\u001b[39m\n\u001b[32m   2252\u001b[39m stacked = np.empty(shape, dtype=dtype)\n\u001b[32m   2253\u001b[39m \u001b[38;5;28;01mfor\u001b[39;00m i, arr \u001b[38;5;129;01min\u001b[39;00m \u001b[38;5;28menumerate\u001b[39m(arrays):\n\u001b[32m-> \u001b[39m\u001b[32m2254\u001b[39m     stacked[i] = arr\n\u001b[32m   2256\u001b[39m \u001b[38;5;28;01mreturn\u001b[39;00m stacked, placement\n",
      "\u001b[31mKeyboardInterrupt\u001b[39m: "
     ]
    }
   ],
   "source": [
    "import pandas as pd\n",
    "import matplotlib.pyplot as plt\n",
    "import numpy as np\n",
    "import neurokit2 as nk\n",
    "import os\n",
    "from os import listdir, path\n",
    "from IPython.display import display\n",
    "from tqdm import tqdm\n",
    "\n",
    "# Настройки\n",
    "DATA_PATH = 'C:/Users/khari/OneDrive/Документы/Обработка ВСР/'\n",
    "RESULTS_PATH = 'C:/Users/khari/OneDrive/Документы/Результаты ВСР/'\n",
    "SAMPLING_RATE = 250\n",
    "REQUIRED_STAGES = [\"Струп тест фигуры\", \"Струп тест черные слова\", \"Струп тест цвет трен\",\n",
    "    \"Этап 1 Офис\", \"Выбор1\", \"Струп тест цвет\", \"Каган тест1\",\n",
    "    \"Этап 2 Собачка\", \"Выбор2\", \"Струп тест цвет2\", \"Каган тест2\",\n",
    "    \"Этап Радостная ситуация Баскет\", \"Струп тест цвет3\", \"Каган тест3\",\n",
    "    \"Этап 3 Семейная ссора\", \"Выбор3\", \"Струп тест цвет4\", \"Каган тест4\",\n",
    "    \"Нейтральная ситуация\", \"ВыборН\", \"Струп тест цвет5\", \"Каган тест5\",\n",
    "    \"Этап 4 Метро\", \"Выбор4\", \"Струп тест цвет6\", \"Каган тест6\",\n",
    "    \"Итоговый фон открытые глаза\", \"Итоговый фон закрытые глаза\"]  # ваш список этапов\n",
    "\n",
    "def get_data_from_reacor_file(file):\n",
    "    \"\"\"Чтение и извлечение данных из файла реактора (только нужные этапы)\"\"\"\n",
    "    with open(file, 'r', encoding='cp1251') as fd:\n",
    "        lines = [line.replace(',', '.') for line in fd.readlines()]\n",
    "\n",
    "    # Инициализация каналов\n",
    "    ecg_channel = ppg_channel = eda_channel = eeg_channel = None\n",
    "\n",
    "    for i, line in enumerate(lines):\n",
    "        if line.startswith('// Информация о треке'):\n",
    "            channel_num = int(lines[i+2].split('<')[0].strip())\n",
    "            channel_type = lines[i+3].split('<')[0].strip()\n",
    "\n",
    "            if 'ЭКГ' in channel_type or 'ECG' in channel_type:\n",
    "                ecg_channel = channel_num + 1\n",
    "            if ('ФПГ' in channel_type or 'PPG' in channel_type) and 'дифференциальный' not in channel_type:\n",
    "                ppg_channel = channel_num + 1\n",
    "            if 'КГР' in channel_type or 'EDA' in channel_type:\n",
    "                eda_channel = channel_num + 1\n",
    "            if 'ЭЭГ' in channel_type or 'EEG' in channel_type:\n",
    "                eeg_channel = channel_num + 1\n",
    "\n",
    "    stage_data_ecg, stage_data_ppg, stage_data_eda, stage_data_eeg = {}, {}, {}, {}\n",
    "\n",
    "    for i in range(len(lines)):\n",
    "        if 'Название фрагмента' in lines[i]:\n",
    "            name = lines[i].split(\"<\")[0].strip()\n",
    "            if name not in REQUIRED_STAGES:\n",
    "                continue\n",
    "                \n",
    "            stage_length = int(lines[i+3].split(\"<\")[0].strip())\n",
    "            data_start_index = i+5\n",
    "            \n",
    "            data_ecg, data_ppg, data_eda, data_eeg = [], [], [], []\n",
    "            for j in range(data_start_index, data_start_index + stage_length):\n",
    "                data = lines[j].split('\\t')\n",
    "                \n",
    "                if ecg_channel is not None and ecg_channel < len(data):\n",
    "                    data_ecg.append(float(data[ecg_channel]))\n",
    "                if ppg_channel is not None and ppg_channel < len(data):\n",
    "                    data_ppg.append(float(data[ppg_channel]))\n",
    "                if eda_channel is not None and eda_channel < len(data):\n",
    "                    data_eda.append(float(data[eda_channel]))\n",
    "                if eeg_channel is not None and eeg_channel < len(data):\n",
    "                    data_eeg.append(float(data[eeg_channel]))\n",
    "\n",
    "            if ecg_channel is not None:\n",
    "                stage_data_ecg[name] = data_ecg\n",
    "            if ppg_channel is not None:\n",
    "                stage_data_ppg[name] = data_ppg\n",
    "            if eda_channel is not None:\n",
    "                stage_data_eda[name] = data_eda\n",
    "            if eeg_channel is not None:\n",
    "                stage_data_eeg[name] = data_eeg\n",
    "    \n",
    "    return stage_data_ecg, stage_data_ppg, stage_data_eda, stage_data_eeg\n",
    "\n",
    "def process_signal(signal, signal_type, name, stage, sampling_rate=SAMPLING_RATE):\n",
    "    \"\"\"Обработка сигнала с визуализацией и анализом\"\"\"\n",
    "    try:\n",
    "        result = {}\n",
    "        if len(signal) < 100:\n",
    "            return None\n",
    "\n",
    "        def force_extract(value):\n",
    "            try:\n",
    "                if hasattr(value, 'iloc'):\n",
    "                    return float(value.iloc[0])\n",
    "                if hasattr(value, 'item'):\n",
    "                    return float(value.item())\n",
    "                if isinstance(value, (list, tuple, np.ndarray)):\n",
    "                    if len(value) > 0:\n",
    "                        if isinstance(value[0], (list, tuple, np.ndarray)):\n",
    "                            return float(value[0][0])\n",
    "                        return float(value[0])\n",
    "                    return float('nan')\n",
    "                return float(value)\n",
    "            except (TypeError, ValueError, IndexError):\n",
    "                return float('nan')\n",
    "        \n",
    "        if signal_type == 'PPG':\n",
    "            ppg_processed, info = nk.ppg_process(signal, sampling_rate=sampling_rate)\n",
    "            peaks = info['PPG_Peaks']\n",
    "            if len(peaks) < 2:\n",
    "                return None\n",
    "        \n",
    "            cleaned = ppg_processed['PPG_Clean']\n",
    "            systolic_amplitudes = []\n",
    "        \n",
    "            for i in range(1, len(peaks)):\n",
    "                prev_peak = peaks[i-1]\n",
    "                current_peak = peaks[i]\n",
    "                trough = cleaned.iloc[prev_peak:current_peak].idxmin()\n",
    "                amplitude = cleaned.iloc[current_peak] - cleaned.iloc[trough]\n",
    "                systolic_amplitudes.append(amplitude)\n",
    "        \n",
    "            mean_amplitude = np.mean(systolic_amplitudes) if systolic_amplitudes else np.nan\n",
    "            analysis = nk.ppg_analyze(ppg_processed, sampling_rate=sampling_rate)\n",
    "        \n",
    "            result = {\n",
    "                #f\"ФПГ_{stage}_ЧСС\": force_extract(analysis['PPG_Rate_Mean'].iloc[0]),\n",
    "                #f\"ФПГ_{stage}_ACB\": force_extract(mean_amplitude),\n",
    "            }\n",
    "            return result\n",
    "        \n",
    "        elif signal_type == 'ECG':\n",
    "            ecg_processed, info = nk.ecg_process(signal, sampling_rate=sampling_rate)\n",
    "            analysis = nk.ecg_analyze(ecg_processed, sampling_rate=sampling_rate)\n",
    "\n",
    "            if analysis is None or analysis.empty:\n",
    "                return None\n",
    "\n",
    "            rpeaks = info['ECG_R_Peaks']\n",
    "            if len(rpeaks) < 2:\n",
    "                return None\n",
    "            \n",
    "            hrv_freq = nk.hrv_frequency(peaks=rpeaks, sampling_rate=sampling_rate, normalize=False, psd_method='welch', show=False)\n",
    "            \n",
    "            #try:\n",
    "                # Используем очищенный сигнал ЭКГ для расчета энтропии\n",
    "                #cleaned_signal = ecg_processed['ECG_Clean'].values\n",
    "                \n",
    "                # Определяем оптимальные параметры для sample entropy\n",
    "                #delay_result = nk.complexity_delay(cleaned_signal, delay_max=50, method='fraser1986', show=False, silent=True)\n",
    "                #delay = int(delay_result[0]) if isinstance(delay_result, tuple) else int(delay_result)\n",
    "                \n",
    "                #dimension_result = nk.complexity_dimension(cleaned_signal, delay=delay, dimension_max=10, method='afnn', show=False)\n",
    "                #dimension = int(dimension_result[0]) if isinstance(dimension_result, tuple) else int(dimension_result)\n",
    "                \n",
    "                #tolerance_result = nk.complexity_tolerance(cleaned_signal, method='maxApEn', delay=delay, dimension=dimension, show=False)\n",
    "                #tolerance = float(tolerance_result[0]) if isinstance(tolerance_result, tuple) else float(tolerance_result)\n",
    "                \n",
    "                # Вычисляем sample entropy\n",
    "                #sampen_result = nk.entropy_sample(\n",
    "                #    cleaned_signal, \n",
    "                #    delay=delay, \n",
    "                #    dimension=dimension, \n",
    "                #    tolerance=tolerance\n",
    "                #)\n",
    "                \n",
    "                # entropy_sample также возвращает кортеж (значение, информация)\n",
    "                #sampen = float(sampen_result[0]) if isinstance(sampen_result, tuple) else float(sampen_result)\n",
    "                \n",
    "                # Добавляем результат\n",
    "                #result[f\"ЭКГ_{stage}_SampleEntropy\"] = sampen\n",
    "                \n",
    "            #except Exception as e:\n",
    "                #print(f\"Ошибка при расчете Sample Entropy для стадии {stage}: {str(e)}\")\n",
    "                #result[f\"ЭКГ_{stage}_SampleEntropy\"] = np.nan\n",
    "\n",
    "    # Основные параметры ВСР\n",
    "            param_mapping = {\n",
    "                'ЭКГ_ЧСС': 'ECG_Rate_Mean',\n",
    "                #'MeanRR': 'HRV_MeanNN',\n",
    "                #'MinRR': 'HRV_MinNN',\n",
    "                #'MaxRR': 'HRV_MaxNN',\n",
    "                #'SDNN': 'HRV_SDNN', \n",
    "                #'SDANN1': 'HRV_SDANN1',\n",
    "                #'SDNNI1': 'HRV_SDNNI1',\n",
    "                #'RMSSD': 'HRV_RMSSD',\n",
    "                #'SDRMSSD': 'HRV_SDRMSSD',\n",
    "                #'pNN50': 'HRV_pNN50',\n",
    "        \n",
    "        # Нелинейные параметры\n",
    "                #'SD1': 'HRV_SD1',\n",
    "                #'SD2': 'HRV_SD2',\n",
    "                #'SD1SD2': 'HRV_SD1SD2',\n",
    "                #'CSI': 'HRV_CSI',\n",
    "                #'CVI': 'HRV_CVI',\n",
    "                #'HTI': 'HRV_HTI',\n",
    "            }\n",
    "\n",
    "            freq_params_mapping = {\n",
    "                #'ULF': 'HRV_ULF',\n",
    "                'VLF': 'HRV_VLF', \n",
    "                'LF': 'HRV_LF',\n",
    "                'HF': 'HRV_HF',\n",
    "                #'VHF': 'HRV_VHF',\n",
    "                'LFHF': 'HRV_LFHF',\n",
    "                #'LnHF': 'HRV_LnHF'\n",
    "            }\n",
    "\n",
    "    # Извлекаем стандартные параметры\n",
    "            for param, hrv_key in param_mapping.items():\n",
    "                if hrv_key in analysis:\n",
    "                    val = analysis[hrv_key].iloc[0]\n",
    "                    result[f\"ЭКГ_{stage}_{param}\"] = float(val) if not pd.isna(val) else np.nan\n",
    "\n",
    "            for param, hrv_key in freq_params_mapping.items():\n",
    "                if hrv_key in hrv_freq:\n",
    "                    val = hrv_freq[hrv_key].iloc[0]\n",
    "                    result[f\"ЭКГ_{stage}_{param}\"] = float(val) if not pd.isna(val) else np.nan\n",
    "\n",
    "    # Рассчитываем дополнительные параметры\n",
    "            rr_intervals = np.diff(rpeaks) / sampling_rate * 1000  # в мс\n",
    "    \n",
    "            if len(rr_intervals) > 10:\n",
    "        # Гистограмма RR-интервалов\n",
    "                bin_edges = np.linspace(400, 1300, 19)  # 19 точек создает 18 интервалов\n",
    "                hist, bin_edges = np.histogram(rr_intervals, bins=bin_edges, range=(400, 1300))\n",
    "        \n",
    "                mo = bin_edges[np.argmax(hist)]/1000  # Мода\n",
    "                amo = np.max(hist)/len(rr_intervals)*100  # Амплитуда моды\n",
    "        \n",
    "        # Получаем частотные параметры\n",
    "                MxDMn = (analysis.get('HRV_MaxNN', [np.nan])[0] - analysis.get('HRV_MinNN', [np.nan])[0])/1000\n",
    "                vlf_power = lf_power = hf_power = np.nan\n",
    "                if hrv_key == 'HRV_VLF':\n",
    "                    vlf_power = float(val) if not pd.isna(val) else np.nan\n",
    "                elif hrv_key == 'HRV_LF':\n",
    "                    lf_power = float(val) if not pd.isna(val) else np.nan\n",
    "                elif hrv_key == 'HRV_HF':\n",
    "                    hf_power = float(val) if not pd.isna(val) else np.nan\n",
    "\n",
    "                if not np.isnan(vlf_power) and not np.isnan(lf_power) and not np.isnan(hf_power):\n",
    "                    tp = vlf_power + lf_power + hf_power\n",
    "                else:\n",
    "                    tp = np.nan\n",
    "    \n",
    "                result[f\"ЭКГ_{stage}_TP\"] = tp\n",
    "\n",
    "    # Все расчеты используем ТОЛЬКО из hrv_freq данных\n",
    "                if not np.isnan(lf_power) and not np.isnan(hf_power) and hf_power > 0:\n",
    "                    result[f\"ЭКГ_{stage}_LFHF\"] = lf_power / hf_power\n",
    "                else:\n",
    "                    result[f\"ЭКГ_{stage}_LFHF\"] = np.nan\n",
    "\n",
    "    # Расчет ИЦ использует данные из hrv_freq\n",
    "                if not np.isnan(lf_power) and not np.isnan(vlf_power) and not np.isnan(hf_power) and hf_power > 0:\n",
    "                    ic = (lf_power + vlf_power) / hf_power\n",
    "                else:\n",
    "                    ic = np.nan\n",
    "\n",
    "                    print(lf_power, hf_power, vlf_power, tp)\n",
    "\n",
    "        \n",
    "        # Геометрические параметры\n",
    "                geom_features = {\n",
    "                    'LFn': lf_power/tp,\n",
    "                    'HFn': hf_power/tp,\n",
    "                    #'Mo': mo,\n",
    "                    #'AMo': amo,\n",
    "                    #'ВР': force_extract(MxDMn),\n",
    "                    #'ИВР': force_extract(amo/MxDMn) if MxDMn > 0 else np.nan,\n",
    "                    #'ВПР': force_extract(1/(mo*MxDMn)) if (mo*MxDMn) > 0 else np.nan,\n",
    "                    #'ПАПР': force_extract(amo/mo) if mo > 0 else np.nan,\n",
    "                    #'ИН': force_extract(amo/(2*MxDMn*mo)) if (MxDMn*mo) > 0 else np.nan,\n",
    "                    #'ИЦ': force_extract(ic),\n",
    "                }\n",
    "        \n",
    "        # Добавляем все параметры в результат\n",
    "                for k, v in geom_features.items():\n",
    "                    result[f\"ЭКГ_{stage}_{k}\"] = v\n",
    "\n",
    "            return result\n",
    "\n",
    "        elif signal_type == 'EDA':\n",
    "            filtered_eda, info_eda = nk.eda_process(signal, sampling_rate=sampling_rate)\n",
    "            analysis_result = nk.eda_analyze(filtered_eda, sampling_rate=sampling_rate)\n",
    "            if analysis_result is not None and not analysis_result.empty:\n",
    "                eda_features = {\n",
    "                    'КГР_Nпиков': 'SCR_Peaks_N',\n",
    "                    \"КГР_АмплитудаПиков\": 'SCR_Peaks_Amplitude_Mean'\n",
    "                }\n",
    "        \n",
    "                for feature_name, column_name in eda_features.items():  # Используем .items() вместо вызова как функции\n",
    "                    if column_name in analysis_result.columns:\n",
    "                        result[f\"КГР_{stage}_{feature_name}\"] = force_extract(analysis_result[column_name].iloc[0])\n",
    "                    else:\n",
    "                        result[f\"КГР_{stage}_{feature_name}\"] = np.nan\n",
    "            else:\n",
    "        # Если анализ не удался, все равно добавляем колонки с NaN\n",
    "                result[f\"КГР_{stage}_КГР_Nпиков\"] = np.nan\n",
    "                result[f\"КГР_{stage}_КГР_АмплитудаПиков\"] = np.nan\n",
    "    \n",
    "            return result\n",
    "        \n",
    "\n",
    "        elif signal_type == 'EEG':\n",
    "            try:\n",
    "        # Предобработка сигнала\n",
    "                filtered_eeg = nk.signal_filter(signal, sampling_rate=sampling_rate, lowcut=0.5, highcut=40)\n",
    "\n",
    "        # Существующий расчет мощности в полосах\n",
    "                power = nk.eeg_power(filtered_eeg, sampling_rate=sampling_rate,\n",
    "                        frequency_band=['Beta1', 'Beta2', 'Beta3', 'Alpha'])\n",
    "\n",
    "                if power is not None and not power.empty:\n",
    "            # Вычисляем значения после проверки существования power\n",
    "                    beta1 = force_extract(power.get('Beta1', [0])[0]) + force_extract(power.get('Beta2', [0])[0])\n",
    "                    beta3 = force_extract(power.get('Beta3', [0])[0])\n",
    "                    alpha = force_extract(power.get('Alpha', [0])[0])\n",
    "            \n",
    "            # Создаем словарь с вычисленными значениями\n",
    "                    EEG_features = {\n",
    "                        'АльфаМ': alpha,\n",
    "                        'Бета1М': beta1,\n",
    "                        'Бета2М': beta3\n",
    "                    }\n",
    "\n",
    "            # Добавляем вычисленные значения\n",
    "                    for feature_name, value in EEG_features.items():\n",
    "                        result[f\"ЭЭГ_{stage}_{feature_name}\"] = value\n",
    "\n",
    "            # Расчет индекса возбуждения\n",
    "                    beta_sum = beta1 + beta3  # beta1 уже содержит Beta1 + Beta2\n",
    "                    result[f\"ЭЭГ_{stage}_ИВ\"] = force_extract(beta_sum / alpha) if alpha > 0 else np.nan\n",
    "            \n",
    "                else:\n",
    "            # Если power пустой, добавляем NaN значения\n",
    "                    result[f\"ЭЭГ_{stage}_АльфаМ\"] = np.nan\n",
    "                    result[f\"ЭЭГ_{stage}_Бета1М\"] = np.nan\n",
    "                    result[f\"ЭЭГ_{stage}_Бета2М\"] = np.nan\n",
    "                    result[f\"ЭЭГ_{stage}_ИВ\"] = np.nan\n",
    "            \n",
    "                return result\n",
    "        \n",
    "            except Exception as e:\n",
    "                print(f\"Ошибка при обработке ЭЭГ для стадии {stage}: {str(e)}\")\n",
    "        # Все равно возвращаем результат с NaN значениями, чтобы таблица не была пустой\n",
    "                result[f\"ЭЭГ_{stage}_АльфаМ\"] = np.nan\n",
    "                result[f\"ЭЭГ_{stage}_Бета1М\"] = np.nan\n",
    "                result[f\"ЭЭГ_{stage}_Бета2М\"] = np.nan\n",
    "                result[f\"ЭЭГ_{stage}_ИВ\"] = np.nan\n",
    "                return result\n",
    "        \n",
    "    # ДОБАВЛЯЕМ РАСЧЕТ INDIVIDUAL ALPHA PEAK FREQUENCY\n",
    "            #try:\n",
    "        # Вычисляем спектральную плотность мощности\n",
    "                #psd = nk.signal_psd(filtered_eeg, sampling_rate=sampling_rate, show=False)\n",
    "        \n",
    "                #if psd is not None and not psd.empty:\n",
    "            # Определяем альфа-диапазон для поиска пика (можно расширить для надежности)\n",
    "                    #alpha_min, alpha_max = 7.0, 13.0\n",
    "            \n",
    "            # Фильтруем PSD для альфа-диапазона\n",
    "                    #alpha_psd = psd[(psd['Frequency'] >= alpha_min) & (psd['Frequency'] <= alpha_max)]\n",
    "            \n",
    "                    #if not alpha_psd.empty:\n",
    "                        # Находим частоту с максимальной мощностью в альфа-диапазоне\n",
    "                        #max_power_idx = alpha_psd['Power'].idxmax()\n",
    "                        #iapf = alpha_psd.loc[max_power_idx, 'Frequency']\n",
    "                \n",
    "                # Дополнительная проверка: пик должен быть достаточно выраженным\n",
    "                # Вычисляем среднюю мощность в окрестности ±1 Гц от пика\n",
    "                        #surround_mask = (psd['Frequency'] >= iapf - 1.0) & (psd['Frequency'] <= iapf + 1.0)\n",
    "                        #mean_surround_power = psd[surround_mask]['Power'].mean()\n",
    "                \n",
    "                # Проверяем, что пик хотя бы на 15% выше окружающих частот\n",
    "                        #peak_power = alpha_psd.loc[max_power_idx, 'Power']\n",
    "                        #if peak_power > 1.15 * mean_surround_power:\n",
    "                            #result[f\"ЭЭГ_{stage}_IAPF\"] = force_extract(iapf)\n",
    "                            #result[f\"ЭЭГ_{stage}_AlphaPeakPower\"] = force_extract(peak_power)\n",
    "                        #else:\n",
    "                    # Пик недостаточно выражен\n",
    "                            #result[f\"ЭЭГ_{stage}_IAPF\"] = None\n",
    "                            #result[f\"ЭЭГ_{stage}_AlphaPeakPower\"] = None\n",
    "                    #else:\n",
    "                # Нет данных в альфа-диапазоне\n",
    "                        #result[f\"ЭЭГ_{stage}_IAPF\"] = None\n",
    "                        #result[f\"ЭЭГ_{stage}_AlphaPeakPower\"] = None\n",
    "                \n",
    "                #else:\n",
    "            # Не удалось вычислить PSD\n",
    "                    #result[f\"ЭЭГ_{stage}_IAPF\"] = None\n",
    "                    #result[f\"ЭЭГ_{stage}_AlphaPeakPower\"] = None\n",
    "            \n",
    "            #except Exception as e:\n",
    "                #print(f\"Ошибка при расчете IAPF для стадии {stage}: {str(e)}\")\n",
    "                #result[f\"ЭЭГ_{stage}_IAPF\"] = None\n",
    "                #result[f\"ЭЭГ_{stage}_AlphaPeakPower\"] = None\n",
    "        \n",
    "    except Exception as e:\n",
    "        return None\n",
    "\n",
    "def analyze_all_subjects(df):\n",
    "    \"\"\"Анализ данных всех субъектов (только для нужных этапов)\"\"\"\n",
    "    results_ppg, results_ecg, results_eda, results_eeg = {}, {}, {}, {}\n",
    "\n",
    "    for name in tqdm(df['Имя'].unique(), desc=\"Обработка испытуемых\"):\n",
    "        subject_data = df[df['Имя'] == name]\n",
    "        subject_results_ppg = {\"Имя\": name}\n",
    "        subject_results_ecg = {\"Имя\": name}\n",
    "        subject_results_eda = {\"Имя\": name}\n",
    "        subject_results_eeg = {\"Имя\": name}\n",
    "\n",
    "        valid_stages = [stage for stage in subject_data['Фрагмент'].unique() \n",
    "                       if stage in REQUIRED_STAGES]\n",
    "\n",
    "        for stage in tqdm(valid_stages, desc=f\"Этапы {name}\", leave=False):\n",
    "            for signal_type in ['PPG', 'ECG', 'EDA', 'EEG']:\n",
    "                try:\n",
    "                    signal_df = subject_data[(subject_data['Фрагмент'] == stage) & \n",
    "                                           (subject_data['Тип'] == signal_type)]\n",
    "                    if not signal_df.empty:\n",
    "                        signal = signal_df['Данные'].iloc[0]\n",
    "                        analysis_result = process_signal(signal, signal_type, name, stage)\n",
    "                        if analysis_result:\n",
    "                            if signal_type == 'PPG':\n",
    "                                subject_results_ppg.update(analysis_result)\n",
    "                            elif signal_type == 'ECG':\n",
    "                                subject_results_ecg.update(analysis_result)\n",
    "                            elif signal_type == 'EDA':\n",
    "                                subject_results_eda.update(analysis_result)\n",
    "                            elif signal_type == 'EEG':\n",
    "                                subject_results_eeg.update(analysis_result)\n",
    "                except Exception:\n",
    "                    continue\n",
    "\n",
    "        results_ppg[name] = subject_results_ppg\n",
    "        results_ecg[name] = subject_results_ecg\n",
    "        results_eda[name] = subject_results_eda\n",
    "        results_eeg[name] = subject_results_eeg\n",
    "\n",
    "    results_df_ppg = pd.DataFrame.from_dict(results_ppg, orient='index')\n",
    "    results_df_ecg = pd.DataFrame.from_dict(results_ecg, orient='index')\n",
    "    results_df_eda = pd.DataFrame.from_dict(results_eda, orient='index')\n",
    "    results_df_eeg = pd.DataFrame.from_dict(results_eeg, orient='index')\n",
    "\n",
    "    combined_results = results_df_ppg.merge(results_df_ecg, on='Имя', how='outer')\\\n",
    "                                    .merge(results_df_eda, on='Имя', how='outer')\\\n",
    "                                    .merge(results_df_eeg, on='Имя', how='outer')\n",
    "    \n",
    "    return results_df_ppg, results_df_ecg, results_df_eda, results_df_eeg, combined_results\n",
    "\n",
    "if __name__ == '__main__':\n",
    "    if not os.path.exists(RESULTS_PATH):\n",
    "        os.makedirs(RESULTS_PATH)\n",
    "\n",
    "    raw_files = [f for f in listdir(DATA_PATH) if path.isfile(path.join(DATA_PATH, f)) and f.endswith('.txt')]\n",
    "    data_rows = []\n",
    "\n",
    "    for file in tqdm(raw_files, desc=\"Чтение файлов\"):\n",
    "        try:\n",
    "            subject_name = path.splitext(file)[0]\n",
    "            ecg_data, ppg_data, eda_data, eeg_data = get_data_from_reacor_file(path.join(DATA_PATH, file))\n",
    "            \n",
    "            all_data = {'ECG': ecg_data, 'PPG': ppg_data, 'EDA': eda_data, 'EEG': eeg_data}\n",
    "            \n",
    "            for data_type, data_dict in all_data.items():\n",
    "                for stage_name, values in data_dict.items():\n",
    "                    data_rows.append({\n",
    "                        'Имя': subject_name,\n",
    "                        'Тип': data_type,\n",
    "                        'Фрагмент': stage_name,\n",
    "                        'Данные': values\n",
    "                    })\n",
    "        except Exception:\n",
    "            continue\n",
    "\n",
    "    df = pd.DataFrame(data_rows)\n",
    "    results_df_ppg, results_df_ecg, results_df_eda, results_df_eeg, combined_results = analyze_all_subjects(df)\n",
    "    \n",
    "    results_df_ppg.to_csv(os.path.join(RESULTS_PATH, 'ppg_results.csv'), index=False, sep=',', encoding='utf-8-sig')\n",
    "    results_df_ecg.to_csv(os.path.join(RESULTS_PATH, 'ecg_results.csv'), index=False, sep=',', encoding='utf-8-sig')\n",
    "    results_df_eda.to_csv(os.path.join(RESULTS_PATH, 'eda_results.csv'), index=False, sep=',', encoding='utf-8-sig')\n",
    "    results_df_eeg.to_csv(os.path.join(RESULTS_PATH, 'eeg_results.csv'), index=False, sep=',', encoding='utf-8-sig')\n",
    "    combined_results.to_csv(os.path.join(RESULTS_PATH, 'combined_results.csv'), index=False, sep=',', encoding='utf-8-sig')"
   ]
  }
 ],
 "metadata": {
  "kernelspec": {
   "display_name": "Python 3",
   "language": "python",
   "name": "python3"
  },
  "language_info": {
   "codemirror_mode": {
    "name": "ipython",
    "version": 3
   },
   "file_extension": ".py",
   "mimetype": "text/x-python",
   "name": "python",
   "nbconvert_exporter": "python",
   "pygments_lexer": "ipython3",
   "version": "3.13.2"
  }
 },
 "nbformat": 4,
 "nbformat_minor": 5
}
